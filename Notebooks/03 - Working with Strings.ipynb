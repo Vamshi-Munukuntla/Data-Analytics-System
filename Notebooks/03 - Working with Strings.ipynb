{
 "cells": [
  {
   "cell_type": "code",
   "execution_count": 1,
   "id": "349c8666-d296-4967-a116-dd1f9bf3834b",
   "metadata": {},
   "outputs": [],
   "source": [
    "import numpy as np\n",
    "import pandas as pd\n",
    "\n",
    "import matplotlib.pyplot as plt\n",
    "import seaborn as sns\n",
    "\n",
    "import plotly.express as px"
   ]
  },
  {
   "cell_type": "markdown",
   "id": "afeb7d64-5463-4d5a-837d-f791cd47c13c",
   "metadata": {},
   "source": [
    "# Working with Text"
   ]
  },
  {
   "cell_type": "code",
   "execution_count": 2,
   "id": "d4f2e42c-08bc-49e7-b22a-15dc9386110c",
   "metadata": {},
   "outputs": [],
   "source": [
    "path = '../Data/titanic.csv'"
   ]
  },
  {
   "cell_type": "code",
   "execution_count": 3,
   "id": "9ae4e8f3-f08f-4bc6-9429-c8fcc3bdbdb5",
   "metadata": {},
   "outputs": [],
   "source": [
    "df = pd.read_csv(path)"
   ]
  },
  {
   "cell_type": "code",
   "execution_count": 4,
   "id": "876b7694-ee49-47eb-8225-a3f48b2bb1cf",
   "metadata": {},
   "outputs": [
    {
     "data": {
      "text/html": [
       "<div>\n",
       "<style scoped>\n",
       "    .dataframe tbody tr th:only-of-type {\n",
       "        vertical-align: middle;\n",
       "    }\n",
       "\n",
       "    .dataframe tbody tr th {\n",
       "        vertical-align: top;\n",
       "    }\n",
       "\n",
       "    .dataframe thead th {\n",
       "        text-align: right;\n",
       "    }\n",
       "</style>\n",
       "<table border=\"1\" class=\"dataframe\">\n",
       "  <thead>\n",
       "    <tr style=\"text-align: right;\">\n",
       "      <th></th>\n",
       "      <th>pclass</th>\n",
       "      <th>survived</th>\n",
       "      <th>name</th>\n",
       "      <th>sex</th>\n",
       "      <th>age</th>\n",
       "      <th>sibsp</th>\n",
       "      <th>parch</th>\n",
       "      <th>ticket</th>\n",
       "      <th>fare</th>\n",
       "      <th>cabin</th>\n",
       "      <th>embarked</th>\n",
       "      <th>boat</th>\n",
       "      <th>body</th>\n",
       "      <th>home.dest</th>\n",
       "    </tr>\n",
       "  </thead>\n",
       "  <tbody>\n",
       "    <tr>\n",
       "      <th>0</th>\n",
       "      <td>1</td>\n",
       "      <td>1</td>\n",
       "      <td>Allen, Miss. Elisabeth Walton</td>\n",
       "      <td>female</td>\n",
       "      <td>29</td>\n",
       "      <td>0</td>\n",
       "      <td>0</td>\n",
       "      <td>24160</td>\n",
       "      <td>211.3375</td>\n",
       "      <td>B5</td>\n",
       "      <td>S</td>\n",
       "      <td>2</td>\n",
       "      <td>?</td>\n",
       "      <td>St Louis, MO</td>\n",
       "    </tr>\n",
       "    <tr>\n",
       "      <th>1</th>\n",
       "      <td>1</td>\n",
       "      <td>1</td>\n",
       "      <td>Allison, Master. Hudson Trevor</td>\n",
       "      <td>male</td>\n",
       "      <td>0.9167</td>\n",
       "      <td>1</td>\n",
       "      <td>2</td>\n",
       "      <td>113781</td>\n",
       "      <td>151.55</td>\n",
       "      <td>C22 C26</td>\n",
       "      <td>S</td>\n",
       "      <td>11</td>\n",
       "      <td>?</td>\n",
       "      <td>Montreal, PQ / Chesterville, ON</td>\n",
       "    </tr>\n",
       "    <tr>\n",
       "      <th>2</th>\n",
       "      <td>1</td>\n",
       "      <td>0</td>\n",
       "      <td>Allison, Miss. Helen Loraine</td>\n",
       "      <td>f</td>\n",
       "      <td>2</td>\n",
       "      <td>1</td>\n",
       "      <td>2</td>\n",
       "      <td>113781</td>\n",
       "      <td>151.55</td>\n",
       "      <td>C22 C26</td>\n",
       "      <td>S</td>\n",
       "      <td>?</td>\n",
       "      <td>?</td>\n",
       "      <td>Montreal, PQ / Chesterville, ON</td>\n",
       "    </tr>\n",
       "    <tr>\n",
       "      <th>3</th>\n",
       "      <td>1</td>\n",
       "      <td>0</td>\n",
       "      <td>Allison, Mr. Hudson Joshua Creighton</td>\n",
       "      <td>male</td>\n",
       "      <td>30</td>\n",
       "      <td>1</td>\n",
       "      <td>2</td>\n",
       "      <td>113781</td>\n",
       "      <td>151.55</td>\n",
       "      <td>C22 C26</td>\n",
       "      <td>S</td>\n",
       "      <td>?</td>\n",
       "      <td>135</td>\n",
       "      <td>Montreal, PQ / Chesterville, ON</td>\n",
       "    </tr>\n",
       "    <tr>\n",
       "      <th>4</th>\n",
       "      <td>1</td>\n",
       "      <td>0</td>\n",
       "      <td>Allison, Mrs. Hudson J C (Bessie Waldo Daniels)</td>\n",
       "      <td>female</td>\n",
       "      <td>25</td>\n",
       "      <td>1</td>\n",
       "      <td>2</td>\n",
       "      <td>113781</td>\n",
       "      <td>151.55</td>\n",
       "      <td>C22 C26</td>\n",
       "      <td>S</td>\n",
       "      <td>?</td>\n",
       "      <td>?</td>\n",
       "      <td>Montreal, PQ / Chesterville, ON</td>\n",
       "    </tr>\n",
       "  </tbody>\n",
       "</table>\n",
       "</div>"
      ],
      "text/plain": [
       "   pclass  survived                                             name     sex  \\\n",
       "0       1         1                    Allen, Miss. Elisabeth Walton  female   \n",
       "1       1         1                   Allison, Master. Hudson Trevor    male   \n",
       "2       1         0                     Allison, Miss. Helen Loraine       f   \n",
       "3       1         0             Allison, Mr. Hudson Joshua Creighton    male   \n",
       "4       1         0  Allison, Mrs. Hudson J C (Bessie Waldo Daniels)  female   \n",
       "\n",
       "      age  sibsp  parch  ticket      fare    cabin embarked boat body  \\\n",
       "0      29      0      0   24160  211.3375       B5        S    2    ?   \n",
       "1  0.9167      1      2  113781    151.55  C22 C26        S   11    ?   \n",
       "2       2      1      2  113781    151.55  C22 C26        S    ?    ?   \n",
       "3      30      1      2  113781    151.55  C22 C26        S    ?  135   \n",
       "4      25      1      2  113781    151.55  C22 C26        S    ?    ?   \n",
       "\n",
       "                         home.dest  \n",
       "0                     St Louis, MO  \n",
       "1  Montreal, PQ / Chesterville, ON  \n",
       "2  Montreal, PQ / Chesterville, ON  \n",
       "3  Montreal, PQ / Chesterville, ON  \n",
       "4  Montreal, PQ / Chesterville, ON  "
      ]
     },
     "execution_count": 4,
     "metadata": {},
     "output_type": "execute_result"
    }
   ],
   "source": [
    "df.head()"
   ]
  },
  {
   "cell_type": "code",
   "execution_count": 5,
   "id": "4d9ad04a-4122-41ff-82c9-03521505aeaa",
   "metadata": {},
   "outputs": [
    {
     "name": "stdout",
     "output_type": "stream",
     "text": [
      "<class 'pandas.core.frame.DataFrame'>\n",
      "RangeIndex: 1309 entries, 0 to 1308\n",
      "Data columns (total 14 columns):\n",
      " #   Column     Non-Null Count  Dtype \n",
      "---  ------     --------------  ----- \n",
      " 0   pclass     1309 non-null   int64 \n",
      " 1   survived   1309 non-null   int64 \n",
      " 2   name       1309 non-null   object\n",
      " 3   sex        1309 non-null   object\n",
      " 4   age        1309 non-null   object\n",
      " 5   sibsp      1309 non-null   int64 \n",
      " 6   parch      1309 non-null   int64 \n",
      " 7   ticket     1309 non-null   object\n",
      " 8   fare       1309 non-null   object\n",
      " 9   cabin      1309 non-null   object\n",
      " 10  embarked   1309 non-null   object\n",
      " 11  boat       1309 non-null   object\n",
      " 12  body       1309 non-null   object\n",
      " 13  home.dest  1309 non-null   object\n",
      "dtypes: int64(4), object(10)\n",
      "memory usage: 143.3+ KB\n"
     ]
    }
   ],
   "source": [
    "df.info()"
   ]
  },
  {
   "cell_type": "code",
   "execution_count": 6,
   "id": "f9e2c695-7615-46a2-87b9-87eb3e1de3e0",
   "metadata": {},
   "outputs": [],
   "source": [
    "df['age'] = df['age'].replace(['?'], [None]).astype('float').round()\n",
    "df['fare'] = df['fare'].replace(['?'], [None]).astype('float').round()"
   ]
  },
  {
   "cell_type": "markdown",
   "id": "13849120-5505-4a8b-9a8a-5da7064183f9",
   "metadata": {},
   "source": [
    "## 01. The String Datatype vs Object Datatype"
   ]
  },
  {
   "cell_type": "markdown",
   "id": "f9057208-1deb-4a5b-852d-2775e2654975",
   "metadata": {},
   "source": [
    "- In Object Datatype, anything can be stored like list, boolean or strings\n",
    "- In strings, only strings can be stored"
   ]
  },
  {
   "cell_type": "code",
   "execution_count": 7,
   "id": "1d5fc394-b523-4433-ab73-98419db0e6ab",
   "metadata": {},
   "outputs": [
    {
     "data": {
      "text/plain": [
       "dtype('O')"
      ]
     },
     "execution_count": 7,
     "metadata": {},
     "output_type": "execute_result"
    }
   ],
   "source": [
    "df.name.dtype # Object"
   ]
  },
  {
   "cell_type": "code",
   "execution_count": 8,
   "id": "54f1f1a7-bbfc-4974-afa5-67b09148dc6d",
   "metadata": {},
   "outputs": [
    {
     "name": "stderr",
     "output_type": "stream",
     "text": [
      "C:\\Users\\vamsh\\AppData\\Local\\Temp\\ipykernel_19244\\369334720.py:1: SettingWithCopyWarning: \n",
      "A value is trying to be set on a copy of a slice from a DataFrame\n",
      "\n",
      "See the caveats in the documentation: https://pandas.pydata.org/pandas-docs/stable/user_guide/indexing.html#returning-a-view-versus-a-copy\n",
      "  df.name[0] = [1,2,3]\n"
     ]
    }
   ],
   "source": [
    "df.name[0] = [1,2,3]\n",
    "# we can replace a string with list"
   ]
  },
  {
   "cell_type": "code",
   "execution_count": 9,
   "id": "f212f93e-1650-4107-b862-0f02e1970eee",
   "metadata": {},
   "outputs": [
    {
     "data": {
      "text/plain": [
       "1"
      ]
     },
     "execution_count": 9,
     "metadata": {},
     "output_type": "execute_result"
    }
   ],
   "source": [
    "df.name[0][0]"
   ]
  },
  {
   "cell_type": "code",
   "execution_count": 10,
   "id": "ca8cee91-0eb2-425c-8043-98fa99ea98eb",
   "metadata": {},
   "outputs": [
    {
     "data": {
      "text/plain": [
       "list"
      ]
     },
     "execution_count": 10,
     "metadata": {},
     "output_type": "execute_result"
    }
   ],
   "source": [
    "type(df.name[0])"
   ]
  },
  {
   "cell_type": "code",
   "execution_count": 11,
   "id": "3e911796-dc8c-46a7-9601-66e3db843b53",
   "metadata": {},
   "outputs": [],
   "source": [
    "df.name = df.name.astype('string')\n",
    "# now, it's no more a objects\n",
    "\n",
    "# it's a string datatype"
   ]
  },
  {
   "cell_type": "code",
   "execution_count": 12,
   "id": "b210acb7-e9a6-4d87-b9b6-87f5e4c0083c",
   "metadata": {},
   "outputs": [
    {
     "data": {
      "text/plain": [
       "str"
      ]
     },
     "execution_count": 12,
     "metadata": {},
     "output_type": "execute_result"
    }
   ],
   "source": [
    "type(df.name[0])"
   ]
  },
  {
   "cell_type": "code",
   "execution_count": 13,
   "id": "48bbeabe-da6d-407b-8adc-07828cb831d7",
   "metadata": {},
   "outputs": [
    {
     "data": {
      "text/plain": [
       "'['"
      ]
     },
     "execution_count": 13,
     "metadata": {},
     "output_type": "execute_result"
    }
   ],
   "source": [
    "df.name[0][0]"
   ]
  },
  {
   "cell_type": "markdown",
   "id": "6acbd4b5-2999-4441-b77a-cec37cf96664",
   "metadata": {},
   "source": [
    "## 02. Identifying inconsistent data"
   ]
  },
  {
   "cell_type": "markdown",
   "id": "51cf20be-a19e-4091-ae92-ed9df1e661e2",
   "metadata": {},
   "source": [
    "While there is no specific method to identify inconsistent text & typos, you can take the following two approaches to check a column depending on its data type:\n",
    "\n",
    "- **Categorical Data** -  Look at the unique values in the column.\n",
    "    - `df[column].value_counts()`\n",
    "- **Numerical Data** - Look at the descriptive stats of the column.\n",
    "    - `df[column].describe()`"
   ]
  },
  {
   "cell_type": "markdown",
   "id": "b3d2265b-7f86-4442-9e28-d209ee69e5af",
   "metadata": {},
   "source": [
    "You can fix inconsistent text and typos by using:\n",
    "1. **.loc[]** to update a value at a particular location\n",
    "2. **np.where()** to update values in a column based on a conditional statement\n",
    "3. **.map()** to map a set of values to another set of values.\n",
    "4. **String methods** like str.lower(), str.strip() & str.replace() to clean text data."
   ]
  },
  {
   "cell_type": "code",
   "execution_count": 14,
   "id": "819231d3-e80c-4645-b67a-abb9d6914a8f",
   "metadata": {},
   "outputs": [],
   "source": [
    "df = pd.read_csv(path)"
   ]
  },
  {
   "cell_type": "code",
   "execution_count": 15,
   "id": "e6be89ac-ef4e-45d3-9311-a7eae328fd3a",
   "metadata": {},
   "outputs": [
    {
     "data": {
      "text/html": [
       "<div>\n",
       "<style scoped>\n",
       "    .dataframe tbody tr th:only-of-type {\n",
       "        vertical-align: middle;\n",
       "    }\n",
       "\n",
       "    .dataframe tbody tr th {\n",
       "        vertical-align: top;\n",
       "    }\n",
       "\n",
       "    .dataframe thead th {\n",
       "        text-align: right;\n",
       "    }\n",
       "</style>\n",
       "<table border=\"1\" class=\"dataframe\">\n",
       "  <thead>\n",
       "    <tr style=\"text-align: right;\">\n",
       "      <th></th>\n",
       "      <th>pclass</th>\n",
       "      <th>survived</th>\n",
       "      <th>name</th>\n",
       "      <th>sex</th>\n",
       "      <th>age</th>\n",
       "      <th>sibsp</th>\n",
       "      <th>parch</th>\n",
       "      <th>ticket</th>\n",
       "      <th>fare</th>\n",
       "      <th>cabin</th>\n",
       "      <th>embarked</th>\n",
       "      <th>boat</th>\n",
       "      <th>body</th>\n",
       "      <th>home.dest</th>\n",
       "    </tr>\n",
       "  </thead>\n",
       "  <tbody>\n",
       "    <tr>\n",
       "      <th>0</th>\n",
       "      <td>1</td>\n",
       "      <td>1</td>\n",
       "      <td>Allen, Miss. Elisabeth Walton</td>\n",
       "      <td>female</td>\n",
       "      <td>29</td>\n",
       "      <td>0</td>\n",
       "      <td>0</td>\n",
       "      <td>24160</td>\n",
       "      <td>211.3375</td>\n",
       "      <td>B5</td>\n",
       "      <td>S</td>\n",
       "      <td>2</td>\n",
       "      <td>?</td>\n",
       "      <td>St Louis, MO</td>\n",
       "    </tr>\n",
       "    <tr>\n",
       "      <th>1</th>\n",
       "      <td>1</td>\n",
       "      <td>1</td>\n",
       "      <td>Allison, Master. Hudson Trevor</td>\n",
       "      <td>male</td>\n",
       "      <td>0.9167</td>\n",
       "      <td>1</td>\n",
       "      <td>2</td>\n",
       "      <td>113781</td>\n",
       "      <td>151.55</td>\n",
       "      <td>C22 C26</td>\n",
       "      <td>S</td>\n",
       "      <td>11</td>\n",
       "      <td>?</td>\n",
       "      <td>Montreal, PQ / Chesterville, ON</td>\n",
       "    </tr>\n",
       "    <tr>\n",
       "      <th>2</th>\n",
       "      <td>1</td>\n",
       "      <td>0</td>\n",
       "      <td>Allison, Miss. Helen Loraine</td>\n",
       "      <td>f</td>\n",
       "      <td>2</td>\n",
       "      <td>1</td>\n",
       "      <td>2</td>\n",
       "      <td>113781</td>\n",
       "      <td>151.55</td>\n",
       "      <td>C22 C26</td>\n",
       "      <td>S</td>\n",
       "      <td>?</td>\n",
       "      <td>?</td>\n",
       "      <td>Montreal, PQ / Chesterville, ON</td>\n",
       "    </tr>\n",
       "    <tr>\n",
       "      <th>3</th>\n",
       "      <td>1</td>\n",
       "      <td>0</td>\n",
       "      <td>Allison, Mr. Hudson Joshua Creighton</td>\n",
       "      <td>male</td>\n",
       "      <td>30</td>\n",
       "      <td>1</td>\n",
       "      <td>2</td>\n",
       "      <td>113781</td>\n",
       "      <td>151.55</td>\n",
       "      <td>C22 C26</td>\n",
       "      <td>S</td>\n",
       "      <td>?</td>\n",
       "      <td>135</td>\n",
       "      <td>Montreal, PQ / Chesterville, ON</td>\n",
       "    </tr>\n",
       "    <tr>\n",
       "      <th>4</th>\n",
       "      <td>1</td>\n",
       "      <td>0</td>\n",
       "      <td>Allison, Mrs. Hudson J C (Bessie Waldo Daniels)</td>\n",
       "      <td>female</td>\n",
       "      <td>25</td>\n",
       "      <td>1</td>\n",
       "      <td>2</td>\n",
       "      <td>113781</td>\n",
       "      <td>151.55</td>\n",
       "      <td>C22 C26</td>\n",
       "      <td>S</td>\n",
       "      <td>?</td>\n",
       "      <td>?</td>\n",
       "      <td>Montreal, PQ / Chesterville, ON</td>\n",
       "    </tr>\n",
       "  </tbody>\n",
       "</table>\n",
       "</div>"
      ],
      "text/plain": [
       "   pclass  survived                                             name     sex  \\\n",
       "0       1         1                    Allen, Miss. Elisabeth Walton  female   \n",
       "1       1         1                   Allison, Master. Hudson Trevor    male   \n",
       "2       1         0                     Allison, Miss. Helen Loraine       f   \n",
       "3       1         0             Allison, Mr. Hudson Joshua Creighton    male   \n",
       "4       1         0  Allison, Mrs. Hudson J C (Bessie Waldo Daniels)  female   \n",
       "\n",
       "      age  sibsp  parch  ticket      fare    cabin embarked boat body  \\\n",
       "0      29      0      0   24160  211.3375       B5        S    2    ?   \n",
       "1  0.9167      1      2  113781    151.55  C22 C26        S   11    ?   \n",
       "2       2      1      2  113781    151.55  C22 C26        S    ?    ?   \n",
       "3      30      1      2  113781    151.55  C22 C26        S    ?  135   \n",
       "4      25      1      2  113781    151.55  C22 C26        S    ?    ?   \n",
       "\n",
       "                         home.dest  \n",
       "0                     St Louis, MO  \n",
       "1  Montreal, PQ / Chesterville, ON  \n",
       "2  Montreal, PQ / Chesterville, ON  \n",
       "3  Montreal, PQ / Chesterville, ON  \n",
       "4  Montreal, PQ / Chesterville, ON  "
      ]
     },
     "execution_count": 15,
     "metadata": {},
     "output_type": "execute_result"
    }
   ],
   "source": [
    "df.head()"
   ]
  },
  {
   "cell_type": "code",
   "execution_count": 16,
   "id": "8dfd1519-1d76-4590-afa3-159219c0005d",
   "metadata": {},
   "outputs": [
    {
     "data": {
      "text/plain": [
       "sex\n",
       "male      841\n",
       "female    463\n",
       "F           2\n",
       "M           2\n",
       "f           1\n",
       "Name: count, dtype: int64"
      ]
     },
     "execution_count": 16,
     "metadata": {},
     "output_type": "execute_result"
    }
   ],
   "source": [
    "df.sex.value_counts()"
   ]
  },
  {
   "cell_type": "markdown",
   "id": "f764c7ef-5769-438f-9706-1488671a8603",
   "metadata": {},
   "source": [
    "In this data,for data consistency:\n",
    "- M -> male\n",
    "- F & f -> female"
   ]
  },
  {
   "cell_type": "code",
   "execution_count": 17,
   "id": "94dde8e9-b00d-45a8-a0d7-6d7326d187ec",
   "metadata": {},
   "outputs": [],
   "source": [
    "df.sex = np.where(df.sex == 'f', 'female',df.sex)"
   ]
  },
  {
   "cell_type": "code",
   "execution_count": 18,
   "id": "2fa61e2a-2264-4a15-bafd-b2f7252d4ecc",
   "metadata": {},
   "outputs": [],
   "source": [
    "df.sex = np.where(df.sex == 'F', 'female',df.sex)"
   ]
  },
  {
   "cell_type": "code",
   "execution_count": 19,
   "id": "41e36a05-64e9-4ff5-a9fd-00004ea2f160",
   "metadata": {},
   "outputs": [],
   "source": [
    "df.sex = np.where(df.sex == 'M', 'male',df.sex)"
   ]
  },
  {
   "cell_type": "code",
   "execution_count": 20,
   "id": "0415adab-17be-418c-816e-20d738ab47d1",
   "metadata": {},
   "outputs": [
    {
     "data": {
      "text/plain": [
       "sex\n",
       "male      843\n",
       "female    466\n",
       "Name: count, dtype: int64"
      ]
     },
     "execution_count": 20,
     "metadata": {},
     "output_type": "execute_result"
    }
   ],
   "source": [
    "df.sex.value_counts()"
   ]
  },
  {
   "cell_type": "markdown",
   "id": "f244d4d9-4d89-4df9-b701-6c39a0861783",
   "metadata": {},
   "source": [
    "## 03. Case Operations"
   ]
  },
  {
   "cell_type": "markdown",
   "id": "726ca0d2-eea4-4c63-8420-372be7b38bd8",
   "metadata": {},
   "source": [
    "- title()\n",
    "- upper()\n",
    "- lower()\n",
    "- swapcase()\n",
    "- capitalize()"
   ]
  },
  {
   "cell_type": "markdown",
   "id": "e4e8b6a5-d5fa-4d21-9e0b-f365b6b43e80",
   "metadata": {},
   "source": [
    "### str.title()"
   ]
  },
  {
   "cell_type": "code",
   "execution_count": 21,
   "id": "c8fb1548-8051-4762-b3f9-4dd79d103916",
   "metadata": {},
   "outputs": [
    {
     "data": {
      "text/plain": [
       "0                         Allen, Miss. Elisabeth Walton\n",
       "1                        Allison, Master. Hudson Trevor\n",
       "2                          Allison, Miss. Helen Loraine\n",
       "3                  Allison, Mr. Hudson Joshua Creighton\n",
       "4       Allison, Mrs. Hudson J C (Bessie Waldo Daniels)\n",
       "                             ...                       \n",
       "1304                               Zabour, Miss. Hileni\n",
       "1305                              Zabour, Miss. Thamine\n",
       "1306                          Zakarian, Mr. Mapriededer\n",
       "1307                                Zakarian, Mr. Ortin\n",
       "1308                                 Zimmerman, Mr. Leo\n",
       "Name: name, Length: 1309, dtype: object"
      ]
     },
     "execution_count": 21,
     "metadata": {},
     "output_type": "execute_result"
    }
   ],
   "source": [
    "df.name.str.title()"
   ]
  },
  {
   "cell_type": "markdown",
   "id": "f7f82746-b7fe-474d-8d6a-3e12393958a8",
   "metadata": {},
   "source": [
    "### str.upper()"
   ]
  },
  {
   "cell_type": "code",
   "execution_count": 22,
   "id": "39436537-f1b2-4c75-97e8-24e523dab677",
   "metadata": {},
   "outputs": [
    {
     "data": {
      "text/plain": [
       "0                         ALLEN, MISS. ELISABETH WALTON\n",
       "1                        ALLISON, MASTER. HUDSON TREVOR\n",
       "2                          ALLISON, MISS. HELEN LORAINE\n",
       "3                  ALLISON, MR. HUDSON JOSHUA CREIGHTON\n",
       "4       ALLISON, MRS. HUDSON J C (BESSIE WALDO DANIELS)\n",
       "                             ...                       \n",
       "1304                               ZABOUR, MISS. HILENI\n",
       "1305                              ZABOUR, MISS. THAMINE\n",
       "1306                          ZAKARIAN, MR. MAPRIEDEDER\n",
       "1307                                ZAKARIAN, MR. ORTIN\n",
       "1308                                 ZIMMERMAN, MR. LEO\n",
       "Name: name, Length: 1309, dtype: object"
      ]
     },
     "execution_count": 22,
     "metadata": {},
     "output_type": "execute_result"
    }
   ],
   "source": [
    "df.name.str.upper()"
   ]
  },
  {
   "cell_type": "markdown",
   "id": "c4b1e8e6-ae98-439c-99eb-0202aeb3be31",
   "metadata": {},
   "source": [
    "### str.lower()"
   ]
  },
  {
   "cell_type": "code",
   "execution_count": 23,
   "id": "2c3676f5-ea81-4e97-b680-529172597f69",
   "metadata": {},
   "outputs": [
    {
     "data": {
      "text/plain": [
       "0                         allen, miss. elisabeth walton\n",
       "1                        allison, master. hudson trevor\n",
       "2                          allison, miss. helen loraine\n",
       "3                  allison, mr. hudson joshua creighton\n",
       "4       allison, mrs. hudson j c (bessie waldo daniels)\n",
       "                             ...                       \n",
       "1304                               zabour, miss. hileni\n",
       "1305                              zabour, miss. thamine\n",
       "1306                          zakarian, mr. mapriededer\n",
       "1307                                zakarian, mr. ortin\n",
       "1308                                 zimmerman, mr. leo\n",
       "Name: name, Length: 1309, dtype: object"
      ]
     },
     "execution_count": 23,
     "metadata": {},
     "output_type": "execute_result"
    }
   ],
   "source": [
    "df.name.str.lower()"
   ]
  },
  {
   "cell_type": "markdown",
   "id": "4768bbbf-f60d-40f7-a8c2-f0cc09acf923",
   "metadata": {},
   "source": [
    "### str.swapcase()"
   ]
  },
  {
   "cell_type": "code",
   "execution_count": 24,
   "id": "9f94d4bf-3e2d-4da8-9cbd-b5171305696b",
   "metadata": {},
   "outputs": [
    {
     "data": {
      "text/plain": [
       "0                         aLLEN, mISS. eLISABETH wALTON\n",
       "1                        aLLISON, mASTER. hUDSON tREVOR\n",
       "2                          aLLISON, mISS. hELEN lORAINE\n",
       "3                  aLLISON, mR. hUDSON jOSHUA cREIGHTON\n",
       "4       aLLISON, mRS. hUDSON j c (bESSIE wALDO dANIELS)\n",
       "                             ...                       \n",
       "1304                               zABOUR, mISS. hILENI\n",
       "1305                              zABOUR, mISS. tHAMINE\n",
       "1306                          zAKARIAN, mR. mAPRIEDEDER\n",
       "1307                                zAKARIAN, mR. oRTIN\n",
       "1308                                 zIMMERMAN, mR. lEO\n",
       "Name: name, Length: 1309, dtype: object"
      ]
     },
     "execution_count": 24,
     "metadata": {},
     "output_type": "execute_result"
    }
   ],
   "source": [
    "df.name.str.swapcase()"
   ]
  },
  {
   "cell_type": "markdown",
   "id": "e9df25bb-cc93-4773-a998-130e03a1b6fc",
   "metadata": {},
   "source": [
    "### str.capitalize()"
   ]
  },
  {
   "cell_type": "code",
   "execution_count": 25,
   "id": "c239fab0-6bf2-4429-81f7-f7001adc3d25",
   "metadata": {},
   "outputs": [
    {
     "data": {
      "text/plain": [
       "0                         Allen, miss. elisabeth walton\n",
       "1                        Allison, master. hudson trevor\n",
       "2                          Allison, miss. helen loraine\n",
       "3                  Allison, mr. hudson joshua creighton\n",
       "4       Allison, mrs. hudson j c (bessie waldo daniels)\n",
       "                             ...                       \n",
       "1304                               Zabour, miss. hileni\n",
       "1305                              Zabour, miss. thamine\n",
       "1306                          Zakarian, mr. mapriededer\n",
       "1307                                Zakarian, mr. ortin\n",
       "1308                                 Zimmerman, mr. leo\n",
       "Name: name, Length: 1309, dtype: object"
      ]
     },
     "execution_count": 25,
     "metadata": {},
     "output_type": "execute_result"
    }
   ],
   "source": [
    "df.name.str.capitalize()"
   ]
  },
  {
   "cell_type": "markdown",
   "id": "ae5adbe3-4078-4971-b594-3da5b6a593ec",
   "metadata": {},
   "source": [
    "**Interpretation:**\n",
    "- Returns start of the index\n",
    "- if not found in the text, returns `-1`"
   ]
  },
  {
   "cell_type": "markdown",
   "id": "3a076183-7983-4b72-8dec-4fac8f236794",
   "metadata": {},
   "source": [
    "## 04. Strips and Whitespace\n",
    "\n",
    "- Removing leading and trailing spaces in the text"
   ]
  },
  {
   "cell_type": "markdown",
   "id": "b9c145f1-2436-4eac-ad5b-3248300b6b9d",
   "metadata": {},
   "source": [
    "**Methods:**\n",
    "- isspace()\n",
    "- lstrip()\n",
    "- rstrip()\n",
    "- strip()"
   ]
  },
  {
   "cell_type": "markdown",
   "id": "7715a057-2cc7-4741-9a8e-6ac5da8e24fc",
   "metadata": {},
   "source": [
    "### lstrip() - left strip (removing leading spaces)"
   ]
  },
  {
   "cell_type": "code",
   "execution_count": 27,
   "id": "493563f0-a492-4ad2-928a-2603973de8f6",
   "metadata": {},
   "outputs": [
    {
     "data": {
      "text/plain": [
       "0       23\n",
       "1       22\n",
       "2       20\n",
       "3       28\n",
       "4       39\n",
       "        ..\n",
       "1304    13\n",
       "1305    14\n",
       "1306    16\n",
       "1307    10\n",
       "1308     8\n",
       "Name: name, Length: 1309, dtype: int64"
      ]
     },
     "execution_count": 27,
     "metadata": {},
     "output_type": "execute_result"
    }
   ],
   "source": [
    "df.name.str.split(',').str[1].str.len()"
   ]
  },
  {
   "cell_type": "code",
   "execution_count": 28,
   "id": "50ff9bec-9d6a-43f3-b761-dc055a071732",
   "metadata": {},
   "outputs": [
    {
     "data": {
      "text/plain": [
       "0                       Miss. Elisabeth Walton\n",
       "1                        Master. Hudson Trevor\n",
       "2                          Miss. Helen Loraine\n",
       "3                  Mr. Hudson Joshua Creighton\n",
       "4       Mrs. Hudson J C (Bessie Waldo Daniels)\n",
       "                         ...                  \n",
       "1304                              Miss. Hileni\n",
       "1305                             Miss. Thamine\n",
       "1306                           Mr. Mapriededer\n",
       "1307                                 Mr. Ortin\n",
       "1308                                   Mr. Leo\n",
       "Name: name, Length: 1309, dtype: object"
      ]
     },
     "execution_count": 28,
     "metadata": {},
     "output_type": "execute_result"
    }
   ],
   "source": [
    "df.name.str.split(',').str[1].str.lstrip()"
   ]
  },
  {
   "cell_type": "code",
   "execution_count": 29,
   "id": "3697d21f-9f45-4ea1-88a9-031ffa189d7f",
   "metadata": {},
   "outputs": [
    {
     "data": {
      "text/plain": [
       "0       23\n",
       "1       22\n",
       "2       20\n",
       "3       28\n",
       "4       39\n",
       "        ..\n",
       "1304    13\n",
       "1305    14\n",
       "1306    16\n",
       "1307    10\n",
       "1308     8\n",
       "Name: name, Length: 1309, dtype: int64"
      ]
     },
     "execution_count": 29,
     "metadata": {},
     "output_type": "execute_result"
    }
   ],
   "source": [
    "df.name.str.split(',').str[1].str.len()"
   ]
  },
  {
   "cell_type": "code",
   "execution_count": 30,
   "id": "a786a735-1905-42cf-9fa1-8050cd92c6e6",
   "metadata": {},
   "outputs": [
    {
     "data": {
      "text/plain": [
       "0                       Miss. Elisabeth Walton\n",
       "1                        Master. Hudson Trevor\n",
       "2                          Miss. Helen Loraine\n",
       "3                  Mr. Hudson Joshua Creighton\n",
       "4       Mrs. Hudson J C (Bessie Waldo Daniels)\n",
       "                         ...                  \n",
       "1304                              Miss. Hileni\n",
       "1305                             Miss. Thamine\n",
       "1306                           Mr. Mapriededer\n",
       "1307                                 Mr. Ortin\n",
       "1308                                   Mr. Leo\n",
       "Name: name, Length: 1309, dtype: object"
      ]
     },
     "execution_count": 30,
     "metadata": {},
     "output_type": "execute_result"
    }
   ],
   "source": [
    "df.name.str.split(',').str[1].str.lstrip()"
   ]
  },
  {
   "cell_type": "code",
   "execution_count": 31,
   "id": "57d1c3a8-8425-42c9-a0a4-46a8e9116a80",
   "metadata": {},
   "outputs": [
    {
     "data": {
      "text/plain": [
       "0       22\n",
       "1       21\n",
       "2       19\n",
       "3       27\n",
       "4       38\n",
       "        ..\n",
       "1304    12\n",
       "1305    13\n",
       "1306    15\n",
       "1307     9\n",
       "1308     7\n",
       "Name: name, Length: 1309, dtype: int64"
      ]
     },
     "execution_count": 31,
     "metadata": {},
     "output_type": "execute_result"
    }
   ],
   "source": [
    "df.name.str.split(',').str[1].str.lstrip().str.len()"
   ]
  },
  {
   "cell_type": "markdown",
   "id": "977deb7e-b03e-47f7-910b-767fb6c71e06",
   "metadata": {},
   "source": [
    "### rstrip() - right strip (removing trailing spaces)"
   ]
  },
  {
   "cell_type": "code",
   "execution_count": 32,
   "id": "8e9145ab-58ab-4d98-bd9e-55956f19cf64",
   "metadata": {},
   "outputs": [
    {
     "data": {
      "text/plain": [
       "0                         Allen, Miss. Elisabeth Walton\n",
       "1                        Allison, Master. Hudson Trevor\n",
       "2                          Allison, Miss. Helen Loraine\n",
       "3                  Allison, Mr. Hudson Joshua Creighton\n",
       "4       Allison, Mrs. Hudson J C (Bessie Waldo Daniels)\n",
       "                             ...                       \n",
       "1304                               Zabour, Miss. Hileni\n",
       "1305                              Zabour, Miss. Thamine\n",
       "1306                          Zakarian, Mr. Mapriededer\n",
       "1307                                Zakarian, Mr. Ortin\n",
       "1308                                 Zimmerman, Mr. Leo\n",
       "Name: name, Length: 1309, dtype: object"
      ]
     },
     "execution_count": 32,
     "metadata": {},
     "output_type": "execute_result"
    }
   ],
   "source": [
    "df.name.str.rstrip()"
   ]
  },
  {
   "cell_type": "markdown",
   "id": "27532fdf-4bd8-48f9-8309-b17e1277d316",
   "metadata": {},
   "source": [
    "### strip() - Removing spaces from both sides"
   ]
  },
  {
   "cell_type": "code",
   "execution_count": 33,
   "id": "9ebeec04-5ec5-4276-a4f6-e3caab9cccd4",
   "metadata": {},
   "outputs": [
    {
     "data": {
      "text/plain": [
       "0                         Allen, Miss. Elisabeth Walton\n",
       "1                        Allison, Master. Hudson Trevor\n",
       "2                          Allison, Miss. Helen Loraine\n",
       "3                  Allison, Mr. Hudson Joshua Creighton\n",
       "4       Allison, Mrs. Hudson J C (Bessie Waldo Daniels)\n",
       "                             ...                       \n",
       "1304                               Zabour, Miss. Hileni\n",
       "1305                              Zabour, Miss. Thamine\n",
       "1306                          Zakarian, Mr. Mapriededer\n",
       "1307                                Zakarian, Mr. Ortin\n",
       "1308                                 Zimmerman, Mr. Leo\n",
       "Name: name, Length: 1309, dtype: object"
      ]
     },
     "execution_count": 33,
     "metadata": {},
     "output_type": "execute_result"
    }
   ],
   "source": [
    "df.name.str.strip()"
   ]
  },
  {
   "cell_type": "markdown",
   "id": "a8de5fe7-11b8-4634-9884-8421358cee07",
   "metadata": {},
   "source": [
    "## 05. String splitting and Concatenation"
   ]
  },
  {
   "cell_type": "markdown",
   "id": "b80f8878-a94f-44c8-bdb7-0325b1ff468f",
   "metadata": {},
   "source": [
    "- **split()** and its parameters - splitting the strings\n",
    "- **get()** - extracting elements from a string\n",
    "- **cat()** - concatenating strings"
   ]
  },
  {
   "cell_type": "markdown",
   "id": "587e1582-60f8-45a9-b844-60f4adb4e601",
   "metadata": {},
   "source": [
    "### str.split() & it's parameters"
   ]
  },
  {
   "cell_type": "markdown",
   "id": "41074932-3cd0-4c7b-8dae-8c4e484d6482",
   "metadata": {},
   "source": [
    "Use **str.split()** to split a column by a delimiter into multiple columns"
   ]
  },
  {
   "cell_type": "code",
   "execution_count": 34,
   "id": "68c3632b-8ca6-448d-afda-19d12a3a854f",
   "metadata": {},
   "outputs": [
    {
     "data": {
      "text/html": [
       "<div>\n",
       "<style scoped>\n",
       "    .dataframe tbody tr th:only-of-type {\n",
       "        vertical-align: middle;\n",
       "    }\n",
       "\n",
       "    .dataframe tbody tr th {\n",
       "        vertical-align: top;\n",
       "    }\n",
       "\n",
       "    .dataframe thead th {\n",
       "        text-align: right;\n",
       "    }\n",
       "</style>\n",
       "<table border=\"1\" class=\"dataframe\">\n",
       "  <thead>\n",
       "    <tr style=\"text-align: right;\">\n",
       "      <th></th>\n",
       "      <th>pclass</th>\n",
       "      <th>survived</th>\n",
       "      <th>name</th>\n",
       "      <th>sex</th>\n",
       "      <th>age</th>\n",
       "      <th>sibsp</th>\n",
       "      <th>parch</th>\n",
       "      <th>ticket</th>\n",
       "      <th>fare</th>\n",
       "      <th>cabin</th>\n",
       "      <th>embarked</th>\n",
       "      <th>boat</th>\n",
       "      <th>body</th>\n",
       "      <th>home.dest</th>\n",
       "    </tr>\n",
       "  </thead>\n",
       "  <tbody>\n",
       "    <tr>\n",
       "      <th>1122</th>\n",
       "      <td>3</td>\n",
       "      <td>1</td>\n",
       "      <td>Peter, Miss. Anna</td>\n",
       "      <td>female</td>\n",
       "      <td>?</td>\n",
       "      <td>1</td>\n",
       "      <td>1</td>\n",
       "      <td>2668</td>\n",
       "      <td>22.3583</td>\n",
       "      <td>F E69</td>\n",
       "      <td>C</td>\n",
       "      <td>D</td>\n",
       "      <td>?</td>\n",
       "      <td>?</td>\n",
       "    </tr>\n",
       "  </tbody>\n",
       "</table>\n",
       "</div>"
      ],
      "text/plain": [
       "      pclass  survived               name     sex age  sibsp  parch ticket  \\\n",
       "1122       3         1  Peter, Miss. Anna  female   ?      1      1   2668   \n",
       "\n",
       "         fare  cabin embarked boat body home.dest  \n",
       "1122  22.3583  F E69        C    D    ?         ?  "
      ]
     },
     "execution_count": 34,
     "metadata": {},
     "output_type": "execute_result"
    }
   ],
   "source": [
    "df.sample()"
   ]
  },
  {
   "cell_type": "code",
   "execution_count": 35,
   "id": "4e1165b7-3fc4-4311-b71c-3bd876fd0c1f",
   "metadata": {},
   "outputs": [
    {
     "data": {
      "text/plain": [
       "0                           [St Louis,  MO]\n",
       "1       [Montreal,  PQ / Chesterville,  ON]\n",
       "2       [Montreal,  PQ / Chesterville,  ON]\n",
       "3       [Montreal,  PQ / Chesterville,  ON]\n",
       "4       [Montreal,  PQ / Chesterville,  ON]\n",
       "                       ...                 \n",
       "1304                                    [?]\n",
       "1305                                    [?]\n",
       "1306                                    [?]\n",
       "1307                                    [?]\n",
       "1308                                    [?]\n",
       "Name: home.dest, Length: 1309, dtype: object"
      ]
     },
     "execution_count": 35,
     "metadata": {},
     "output_type": "execute_result"
    }
   ],
   "source": [
    "df['home.dest'].str.split(',')"
   ]
  },
  {
   "cell_type": "code",
   "execution_count": 36,
   "id": "e767211a-a890-4761-91ef-d94f0dbfdf2d",
   "metadata": {},
   "outputs": [
    {
     "data": {
      "text/html": [
       "<div>\n",
       "<style scoped>\n",
       "    .dataframe tbody tr th:only-of-type {\n",
       "        vertical-align: middle;\n",
       "    }\n",
       "\n",
       "    .dataframe tbody tr th {\n",
       "        vertical-align: top;\n",
       "    }\n",
       "\n",
       "    .dataframe thead th {\n",
       "        text-align: right;\n",
       "    }\n",
       "</style>\n",
       "<table border=\"1\" class=\"dataframe\">\n",
       "  <thead>\n",
       "    <tr style=\"text-align: right;\">\n",
       "      <th></th>\n",
       "      <th>0</th>\n",
       "      <th>1</th>\n",
       "      <th>2</th>\n",
       "      <th>3</th>\n",
       "    </tr>\n",
       "  </thead>\n",
       "  <tbody>\n",
       "    <tr>\n",
       "      <th>0</th>\n",
       "      <td>St Louis</td>\n",
       "      <td>MO</td>\n",
       "      <td>None</td>\n",
       "      <td>None</td>\n",
       "    </tr>\n",
       "    <tr>\n",
       "      <th>1</th>\n",
       "      <td>Montreal</td>\n",
       "      <td>PQ / Chesterville</td>\n",
       "      <td>ON</td>\n",
       "      <td>None</td>\n",
       "    </tr>\n",
       "    <tr>\n",
       "      <th>2</th>\n",
       "      <td>Montreal</td>\n",
       "      <td>PQ / Chesterville</td>\n",
       "      <td>ON</td>\n",
       "      <td>None</td>\n",
       "    </tr>\n",
       "    <tr>\n",
       "      <th>3</th>\n",
       "      <td>Montreal</td>\n",
       "      <td>PQ / Chesterville</td>\n",
       "      <td>ON</td>\n",
       "      <td>None</td>\n",
       "    </tr>\n",
       "    <tr>\n",
       "      <th>4</th>\n",
       "      <td>Montreal</td>\n",
       "      <td>PQ / Chesterville</td>\n",
       "      <td>ON</td>\n",
       "      <td>None</td>\n",
       "    </tr>\n",
       "    <tr>\n",
       "      <th>...</th>\n",
       "      <td>...</td>\n",
       "      <td>...</td>\n",
       "      <td>...</td>\n",
       "      <td>...</td>\n",
       "    </tr>\n",
       "    <tr>\n",
       "      <th>1304</th>\n",
       "      <td>?</td>\n",
       "      <td>None</td>\n",
       "      <td>None</td>\n",
       "      <td>None</td>\n",
       "    </tr>\n",
       "    <tr>\n",
       "      <th>1305</th>\n",
       "      <td>?</td>\n",
       "      <td>None</td>\n",
       "      <td>None</td>\n",
       "      <td>None</td>\n",
       "    </tr>\n",
       "    <tr>\n",
       "      <th>1306</th>\n",
       "      <td>?</td>\n",
       "      <td>None</td>\n",
       "      <td>None</td>\n",
       "      <td>None</td>\n",
       "    </tr>\n",
       "    <tr>\n",
       "      <th>1307</th>\n",
       "      <td>?</td>\n",
       "      <td>None</td>\n",
       "      <td>None</td>\n",
       "      <td>None</td>\n",
       "    </tr>\n",
       "    <tr>\n",
       "      <th>1308</th>\n",
       "      <td>?</td>\n",
       "      <td>None</td>\n",
       "      <td>None</td>\n",
       "      <td>None</td>\n",
       "    </tr>\n",
       "  </tbody>\n",
       "</table>\n",
       "<p>1309 rows × 4 columns</p>\n",
       "</div>"
      ],
      "text/plain": [
       "             0                   1     2     3\n",
       "0     St Louis                  MO  None  None\n",
       "1     Montreal   PQ / Chesterville    ON  None\n",
       "2     Montreal   PQ / Chesterville    ON  None\n",
       "3     Montreal   PQ / Chesterville    ON  None\n",
       "4     Montreal   PQ / Chesterville    ON  None\n",
       "...        ...                 ...   ...   ...\n",
       "1304         ?                None  None  None\n",
       "1305         ?                None  None  None\n",
       "1306         ?                None  None  None\n",
       "1307         ?                None  None  None\n",
       "1308         ?                None  None  None\n",
       "\n",
       "[1309 rows x 4 columns]"
      ]
     },
     "execution_count": 36,
     "metadata": {},
     "output_type": "execute_result"
    }
   ],
   "source": [
    "# expand=True, turns the list into a dataframe\n",
    "df['home.dest'].str.split(',', expand=True)"
   ]
  },
  {
   "cell_type": "code",
   "execution_count": 37,
   "id": "2054a52e-8d37-4f7b-a93c-f133e3c3c091",
   "metadata": {},
   "outputs": [
    {
     "data": {
      "text/html": [
       "<div>\n",
       "<style scoped>\n",
       "    .dataframe tbody tr th:only-of-type {\n",
       "        vertical-align: middle;\n",
       "    }\n",
       "\n",
       "    .dataframe tbody tr th {\n",
       "        vertical-align: top;\n",
       "    }\n",
       "\n",
       "    .dataframe thead th {\n",
       "        text-align: right;\n",
       "    }\n",
       "</style>\n",
       "<table border=\"1\" class=\"dataframe\">\n",
       "  <thead>\n",
       "    <tr style=\"text-align: right;\">\n",
       "      <th></th>\n",
       "      <th>0</th>\n",
       "      <th>1</th>\n",
       "    </tr>\n",
       "  </thead>\n",
       "  <tbody>\n",
       "    <tr>\n",
       "      <th>0</th>\n",
       "      <td>St Louis, MO</td>\n",
       "      <td>None</td>\n",
       "    </tr>\n",
       "    <tr>\n",
       "      <th>1</th>\n",
       "      <td>Montreal, PQ</td>\n",
       "      <td>Chesterville, ON</td>\n",
       "    </tr>\n",
       "    <tr>\n",
       "      <th>2</th>\n",
       "      <td>Montreal, PQ</td>\n",
       "      <td>Chesterville, ON</td>\n",
       "    </tr>\n",
       "    <tr>\n",
       "      <th>3</th>\n",
       "      <td>Montreal, PQ</td>\n",
       "      <td>Chesterville, ON</td>\n",
       "    </tr>\n",
       "    <tr>\n",
       "      <th>4</th>\n",
       "      <td>Montreal, PQ</td>\n",
       "      <td>Chesterville, ON</td>\n",
       "    </tr>\n",
       "    <tr>\n",
       "      <th>...</th>\n",
       "      <td>...</td>\n",
       "      <td>...</td>\n",
       "    </tr>\n",
       "    <tr>\n",
       "      <th>1304</th>\n",
       "      <td>?</td>\n",
       "      <td>None</td>\n",
       "    </tr>\n",
       "    <tr>\n",
       "      <th>1305</th>\n",
       "      <td>?</td>\n",
       "      <td>None</td>\n",
       "    </tr>\n",
       "    <tr>\n",
       "      <th>1306</th>\n",
       "      <td>?</td>\n",
       "      <td>None</td>\n",
       "    </tr>\n",
       "    <tr>\n",
       "      <th>1307</th>\n",
       "      <td>?</td>\n",
       "      <td>None</td>\n",
       "    </tr>\n",
       "    <tr>\n",
       "      <th>1308</th>\n",
       "      <td>?</td>\n",
       "      <td>None</td>\n",
       "    </tr>\n",
       "  </tbody>\n",
       "</table>\n",
       "<p>1309 rows × 2 columns</p>\n",
       "</div>"
      ],
      "text/plain": [
       "                  0                  1\n",
       "0      St Louis, MO               None\n",
       "1     Montreal, PQ    Chesterville, ON\n",
       "2     Montreal, PQ    Chesterville, ON\n",
       "3     Montreal, PQ    Chesterville, ON\n",
       "4     Montreal, PQ    Chesterville, ON\n",
       "...             ...                ...\n",
       "1304              ?               None\n",
       "1305              ?               None\n",
       "1306              ?               None\n",
       "1307              ?               None\n",
       "1308              ?               None\n",
       "\n",
       "[1309 rows x 2 columns]"
      ]
     },
     "execution_count": 37,
     "metadata": {},
     "output_type": "execute_result"
    }
   ],
   "source": [
    "df['home.dest'].str.split('/', expand=True, n=1)"
   ]
  },
  {
   "cell_type": "code",
   "execution_count": 38,
   "id": "63583f59-8aed-40af-ba1b-fd3e1b2f331c",
   "metadata": {},
   "outputs": [],
   "source": [
    "# n=1, tell the split has to be done only once.\n",
    "df[['source', 'destination']] = df['home.dest'].str.split('/', expand=True, n=1)"
   ]
  },
  {
   "cell_type": "code",
   "execution_count": 39,
   "id": "b29c2de0-a380-4f11-a1b4-b3966b1b014b",
   "metadata": {},
   "outputs": [
    {
     "data": {
      "text/html": [
       "<div>\n",
       "<style scoped>\n",
       "    .dataframe tbody tr th:only-of-type {\n",
       "        vertical-align: middle;\n",
       "    }\n",
       "\n",
       "    .dataframe tbody tr th {\n",
       "        vertical-align: top;\n",
       "    }\n",
       "\n",
       "    .dataframe thead th {\n",
       "        text-align: right;\n",
       "    }\n",
       "</style>\n",
       "<table border=\"1\" class=\"dataframe\">\n",
       "  <thead>\n",
       "    <tr style=\"text-align: right;\">\n",
       "      <th></th>\n",
       "      <th>pclass</th>\n",
       "      <th>survived</th>\n",
       "      <th>name</th>\n",
       "      <th>sex</th>\n",
       "      <th>age</th>\n",
       "      <th>sibsp</th>\n",
       "      <th>parch</th>\n",
       "      <th>ticket</th>\n",
       "      <th>fare</th>\n",
       "      <th>cabin</th>\n",
       "      <th>embarked</th>\n",
       "      <th>boat</th>\n",
       "      <th>body</th>\n",
       "      <th>home.dest</th>\n",
       "      <th>source</th>\n",
       "      <th>destination</th>\n",
       "    </tr>\n",
       "  </thead>\n",
       "  <tbody>\n",
       "    <tr>\n",
       "      <th>271</th>\n",
       "      <td>1</td>\n",
       "      <td>1</td>\n",
       "      <td>Snyder, Mr. John Pillsbury</td>\n",
       "      <td>male</td>\n",
       "      <td>24</td>\n",
       "      <td>1</td>\n",
       "      <td>0</td>\n",
       "      <td>21228</td>\n",
       "      <td>82.2667</td>\n",
       "      <td>B45</td>\n",
       "      <td>S</td>\n",
       "      <td>7</td>\n",
       "      <td>?</td>\n",
       "      <td>Minneapolis, MN</td>\n",
       "      <td>Minneapolis, MN</td>\n",
       "      <td>None</td>\n",
       "    </tr>\n",
       "  </tbody>\n",
       "</table>\n",
       "</div>"
      ],
      "text/plain": [
       "     pclass  survived                        name   sex age  sibsp  parch  \\\n",
       "271       1         1  Snyder, Mr. John Pillsbury  male  24      1      0   \n",
       "\n",
       "    ticket     fare cabin embarked boat body        home.dest  \\\n",
       "271  21228  82.2667   B45        S    7    ?  Minneapolis, MN   \n",
       "\n",
       "              source destination  \n",
       "271  Minneapolis, MN        None  "
      ]
     },
     "execution_count": 39,
     "metadata": {},
     "output_type": "execute_result"
    }
   ],
   "source": [
    "df.sample()"
   ]
  },
  {
   "cell_type": "markdown",
   "id": "7a49626c-f2a6-4c86-86ef-cbaeed5cdd75",
   "metadata": {},
   "source": [
    "### str.get()\n",
    "- to extract the values from the vectorized strings"
   ]
  },
  {
   "cell_type": "code",
   "execution_count": 40,
   "id": "74532744-7504-498a-9525-cb87ae078eef",
   "metadata": {},
   "outputs": [
    {
     "data": {
      "text/plain": [
       "0                        [Allen,  Miss. Elisabeth Walton]\n",
       "1                       [Allison,  Master. Hudson Trevor]\n",
       "2                         [Allison,  Miss. Helen Loraine]\n",
       "3                 [Allison,  Mr. Hudson Joshua Creighton]\n",
       "4       [Allison,  Mrs. Hudson J C (Bessie Waldo Danie...\n",
       "                              ...                        \n",
       "1304                              [Zabour,  Miss. Hileni]\n",
       "1305                             [Zabour,  Miss. Thamine]\n",
       "1306                         [Zakarian,  Mr. Mapriededer]\n",
       "1307                               [Zakarian,  Mr. Ortin]\n",
       "1308                                [Zimmerman,  Mr. Leo]\n",
       "Name: name, Length: 1309, dtype: object"
      ]
     },
     "execution_count": 40,
     "metadata": {},
     "output_type": "execute_result"
    }
   ],
   "source": [
    "df['name'].str.split(',')"
   ]
  },
  {
   "cell_type": "code",
   "execution_count": 41,
   "id": "49bd3395-1b55-412e-a545-4b7a94906a5b",
   "metadata": {},
   "outputs": [
    {
     "data": {
      "text/plain": [
       "0           Allen\n",
       "1         Allison\n",
       "2         Allison\n",
       "3         Allison\n",
       "4         Allison\n",
       "          ...    \n",
       "1304       Zabour\n",
       "1305       Zabour\n",
       "1306     Zakarian\n",
       "1307     Zakarian\n",
       "1308    Zimmerman\n",
       "Name: name, Length: 1309, dtype: object"
      ]
     },
     "execution_count": 41,
     "metadata": {},
     "output_type": "execute_result"
    }
   ],
   "source": [
    "df['name'].str.split(',').str.get(0)"
   ]
  },
  {
   "cell_type": "markdown",
   "id": "727eac11-6e7b-4010-81d9-035e7a83b4bc",
   "metadata": {},
   "source": [
    "### str.cat()"
   ]
  },
  {
   "cell_type": "code",
   "execution_count": 42,
   "id": "78f6d156-c747-49f5-8b22-2bb927a1c478",
   "metadata": {},
   "outputs": [
    {
     "data": {
      "text/html": [
       "<div>\n",
       "<style scoped>\n",
       "    .dataframe tbody tr th:only-of-type {\n",
       "        vertical-align: middle;\n",
       "    }\n",
       "\n",
       "    .dataframe tbody tr th {\n",
       "        vertical-align: top;\n",
       "    }\n",
       "\n",
       "    .dataframe thead th {\n",
       "        text-align: right;\n",
       "    }\n",
       "</style>\n",
       "<table border=\"1\" class=\"dataframe\">\n",
       "  <thead>\n",
       "    <tr style=\"text-align: right;\">\n",
       "      <th></th>\n",
       "      <th>pclass</th>\n",
       "      <th>survived</th>\n",
       "      <th>name</th>\n",
       "      <th>sex</th>\n",
       "      <th>age</th>\n",
       "      <th>sibsp</th>\n",
       "      <th>parch</th>\n",
       "      <th>ticket</th>\n",
       "      <th>fare</th>\n",
       "      <th>cabin</th>\n",
       "      <th>embarked</th>\n",
       "      <th>boat</th>\n",
       "      <th>body</th>\n",
       "      <th>home.dest</th>\n",
       "      <th>source</th>\n",
       "      <th>destination</th>\n",
       "    </tr>\n",
       "  </thead>\n",
       "  <tbody>\n",
       "    <tr>\n",
       "      <th>476</th>\n",
       "      <td>2</td>\n",
       "      <td>0</td>\n",
       "      <td>Lahtinen, Rev. William</td>\n",
       "      <td>male</td>\n",
       "      <td>30</td>\n",
       "      <td>1</td>\n",
       "      <td>1</td>\n",
       "      <td>250651</td>\n",
       "      <td>26</td>\n",
       "      <td>?</td>\n",
       "      <td>S</td>\n",
       "      <td>?</td>\n",
       "      <td>?</td>\n",
       "      <td>Minneapolis, MN</td>\n",
       "      <td>Minneapolis, MN</td>\n",
       "      <td>None</td>\n",
       "    </tr>\n",
       "  </tbody>\n",
       "</table>\n",
       "</div>"
      ],
      "text/plain": [
       "     pclass  survived                    name   sex age  sibsp  parch  ticket  \\\n",
       "476       2         0  Lahtinen, Rev. William  male  30      1      1  250651   \n",
       "\n",
       "    fare cabin embarked boat body        home.dest           source  \\\n",
       "476   26     ?        S    ?    ?  Minneapolis, MN  Minneapolis, MN   \n",
       "\n",
       "    destination  \n",
       "476        None  "
      ]
     },
     "execution_count": 42,
     "metadata": {},
     "output_type": "execute_result"
    }
   ],
   "source": [
    "df.sample()"
   ]
  },
  {
   "cell_type": "code",
   "execution_count": 43,
   "id": "9a240e66-b6d5-4311-9988-67f8289fdb98",
   "metadata": {},
   "outputs": [
    {
     "data": {
      "text/plain": [
       "0         female_29\n",
       "1       male_0.9167\n",
       "2          female_2\n",
       "3           male_30\n",
       "4         female_25\n",
       "           ...     \n",
       "1304    female_14.5\n",
       "1305       female_?\n",
       "1306      male_26.5\n",
       "1307        male_27\n",
       "1308        male_29\n",
       "Name: sex, Length: 1309, dtype: object"
      ]
     },
     "execution_count": 43,
     "metadata": {},
     "output_type": "execute_result"
    }
   ],
   "source": [
    "df['sex'].str.cat(df['age'], sep='_')"
   ]
  },
  {
   "cell_type": "markdown",
   "id": "0450fe85-006c-4873-9bc5-aab86013f7ad",
   "metadata": {},
   "source": [
    "## 06. Masking with String Methods"
   ]
  },
  {
   "cell_type": "markdown",
   "id": "93c5da03-53f6-41c2-94ae-e169a2d2f58b",
   "metadata": {},
   "source": [
    "- Boolean masking (or indexing):\n",
    "  - create sequence of booleans\n",
    "  - use sequence to select from dataframe (or series)"
   ]
  },
  {
   "cell_type": "markdown",
   "id": "ad46e797-f813-4844-9afa-ac4e43d3e5d4",
   "metadata": {},
   "source": [
    "### conditional"
   ]
  },
  {
   "cell_type": "code",
   "execution_count": 44,
   "id": "a33bfc82-3603-4186-880c-0622ae884d2e",
   "metadata": {},
   "outputs": [
    {
     "data": {
      "text/plain": [
       "0       False\n",
       "1        True\n",
       "2       False\n",
       "3        True\n",
       "4       False\n",
       "        ...  \n",
       "1304    False\n",
       "1305    False\n",
       "1306     True\n",
       "1307     True\n",
       "1308     True\n",
       "Name: sex, Length: 1309, dtype: bool"
      ]
     },
     "execution_count": 44,
     "metadata": {},
     "output_type": "execute_result"
    }
   ],
   "source": [
    "df.sex == 'male'"
   ]
  },
  {
   "cell_type": "markdown",
   "id": "6cc6803a-0080-464f-a9b1-b795cd73cf4d",
   "metadata": {},
   "source": [
    "### str.match"
   ]
  },
  {
   "cell_type": "code",
   "execution_count": 45,
   "id": "7e6dafdc-70c7-4b3c-a062-26e8ab1c0e51",
   "metadata": {},
   "outputs": [
    {
     "data": {
      "text/plain": [
       "0       False\n",
       "1        True\n",
       "2       False\n",
       "3        True\n",
       "4       False\n",
       "        ...  \n",
       "1304    False\n",
       "1305    False\n",
       "1306     True\n",
       "1307     True\n",
       "1308     True\n",
       "Name: sex, Length: 1309, dtype: bool"
      ]
     },
     "execution_count": 45,
     "metadata": {},
     "output_type": "execute_result"
    }
   ],
   "source": [
    "df.sex.str.match('male')"
   ]
  },
  {
   "cell_type": "code",
   "execution_count": 46,
   "id": "180771e4-4183-4c5b-acbc-0d2c28680994",
   "metadata": {},
   "outputs": [
    {
     "data": {
      "text/html": [
       "<div>\n",
       "<style scoped>\n",
       "    .dataframe tbody tr th:only-of-type {\n",
       "        vertical-align: middle;\n",
       "    }\n",
       "\n",
       "    .dataframe tbody tr th {\n",
       "        vertical-align: top;\n",
       "    }\n",
       "\n",
       "    .dataframe thead th {\n",
       "        text-align: right;\n",
       "    }\n",
       "</style>\n",
       "<table border=\"1\" class=\"dataframe\">\n",
       "  <thead>\n",
       "    <tr style=\"text-align: right;\">\n",
       "      <th></th>\n",
       "      <th>pclass</th>\n",
       "      <th>survived</th>\n",
       "      <th>name</th>\n",
       "      <th>sex</th>\n",
       "      <th>age</th>\n",
       "      <th>sibsp</th>\n",
       "      <th>parch</th>\n",
       "      <th>ticket</th>\n",
       "      <th>fare</th>\n",
       "      <th>cabin</th>\n",
       "      <th>embarked</th>\n",
       "      <th>boat</th>\n",
       "      <th>body</th>\n",
       "      <th>home.dest</th>\n",
       "      <th>source</th>\n",
       "      <th>destination</th>\n",
       "    </tr>\n",
       "  </thead>\n",
       "  <tbody>\n",
       "    <tr>\n",
       "      <th>1</th>\n",
       "      <td>1</td>\n",
       "      <td>1</td>\n",
       "      <td>Allison, Master. Hudson Trevor</td>\n",
       "      <td>male</td>\n",
       "      <td>0.9167</td>\n",
       "      <td>1</td>\n",
       "      <td>2</td>\n",
       "      <td>113781</td>\n",
       "      <td>151.55</td>\n",
       "      <td>C22 C26</td>\n",
       "      <td>S</td>\n",
       "      <td>11</td>\n",
       "      <td>?</td>\n",
       "      <td>Montreal, PQ / Chesterville, ON</td>\n",
       "      <td>Montreal, PQ</td>\n",
       "      <td>Chesterville, ON</td>\n",
       "    </tr>\n",
       "    <tr>\n",
       "      <th>3</th>\n",
       "      <td>1</td>\n",
       "      <td>0</td>\n",
       "      <td>Allison, Mr. Hudson Joshua Creighton</td>\n",
       "      <td>male</td>\n",
       "      <td>30</td>\n",
       "      <td>1</td>\n",
       "      <td>2</td>\n",
       "      <td>113781</td>\n",
       "      <td>151.55</td>\n",
       "      <td>C22 C26</td>\n",
       "      <td>S</td>\n",
       "      <td>?</td>\n",
       "      <td>135</td>\n",
       "      <td>Montreal, PQ / Chesterville, ON</td>\n",
       "      <td>Montreal, PQ</td>\n",
       "      <td>Chesterville, ON</td>\n",
       "    </tr>\n",
       "    <tr>\n",
       "      <th>5</th>\n",
       "      <td>1</td>\n",
       "      <td>1</td>\n",
       "      <td>Anderson, Mr. Harry</td>\n",
       "      <td>male</td>\n",
       "      <td>48</td>\n",
       "      <td>0</td>\n",
       "      <td>0</td>\n",
       "      <td>19952</td>\n",
       "      <td>26.55</td>\n",
       "      <td>E12</td>\n",
       "      <td>S</td>\n",
       "      <td>3</td>\n",
       "      <td>?</td>\n",
       "      <td>New York, NY</td>\n",
       "      <td>New York, NY</td>\n",
       "      <td>None</td>\n",
       "    </tr>\n",
       "    <tr>\n",
       "      <th>7</th>\n",
       "      <td>1</td>\n",
       "      <td>0</td>\n",
       "      <td>Andrews, Mr. Thomas Jr</td>\n",
       "      <td>male</td>\n",
       "      <td>39</td>\n",
       "      <td>0</td>\n",
       "      <td>0</td>\n",
       "      <td>112050</td>\n",
       "      <td>0</td>\n",
       "      <td>A36</td>\n",
       "      <td>S</td>\n",
       "      <td>?</td>\n",
       "      <td>?</td>\n",
       "      <td>Belfast, NI</td>\n",
       "      <td>Belfast, NI</td>\n",
       "      <td>None</td>\n",
       "    </tr>\n",
       "    <tr>\n",
       "      <th>9</th>\n",
       "      <td>1</td>\n",
       "      <td>0</td>\n",
       "      <td>Artagaveytia, Mr. Ramon</td>\n",
       "      <td>male</td>\n",
       "      <td>71</td>\n",
       "      <td>0</td>\n",
       "      <td>0</td>\n",
       "      <td>PC 17609</td>\n",
       "      <td>49.5042</td>\n",
       "      <td>?</td>\n",
       "      <td>C</td>\n",
       "      <td>?</td>\n",
       "      <td>22</td>\n",
       "      <td>Montevideo, Uruguay</td>\n",
       "      <td>Montevideo, Uruguay</td>\n",
       "      <td>None</td>\n",
       "    </tr>\n",
       "    <tr>\n",
       "      <th>...</th>\n",
       "      <td>...</td>\n",
       "      <td>...</td>\n",
       "      <td>...</td>\n",
       "      <td>...</td>\n",
       "      <td>...</td>\n",
       "      <td>...</td>\n",
       "      <td>...</td>\n",
       "      <td>...</td>\n",
       "      <td>...</td>\n",
       "      <td>...</td>\n",
       "      <td>...</td>\n",
       "      <td>...</td>\n",
       "      <td>...</td>\n",
       "      <td>...</td>\n",
       "      <td>...</td>\n",
       "      <td>...</td>\n",
       "    </tr>\n",
       "    <tr>\n",
       "      <th>1302</th>\n",
       "      <td>3</td>\n",
       "      <td>0</td>\n",
       "      <td>Yousif, Mr. Wazli</td>\n",
       "      <td>male</td>\n",
       "      <td>?</td>\n",
       "      <td>0</td>\n",
       "      <td>0</td>\n",
       "      <td>2647</td>\n",
       "      <td>7.225</td>\n",
       "      <td>?</td>\n",
       "      <td>C</td>\n",
       "      <td>?</td>\n",
       "      <td>?</td>\n",
       "      <td>?</td>\n",
       "      <td>?</td>\n",
       "      <td>None</td>\n",
       "    </tr>\n",
       "    <tr>\n",
       "      <th>1303</th>\n",
       "      <td>3</td>\n",
       "      <td>0</td>\n",
       "      <td>Yousseff, Mr. Gerious</td>\n",
       "      <td>male</td>\n",
       "      <td>?</td>\n",
       "      <td>0</td>\n",
       "      <td>0</td>\n",
       "      <td>2627</td>\n",
       "      <td>14.4583</td>\n",
       "      <td>?</td>\n",
       "      <td>C</td>\n",
       "      <td>?</td>\n",
       "      <td>?</td>\n",
       "      <td>?</td>\n",
       "      <td>?</td>\n",
       "      <td>None</td>\n",
       "    </tr>\n",
       "    <tr>\n",
       "      <th>1306</th>\n",
       "      <td>3</td>\n",
       "      <td>0</td>\n",
       "      <td>Zakarian, Mr. Mapriededer</td>\n",
       "      <td>male</td>\n",
       "      <td>26.5</td>\n",
       "      <td>0</td>\n",
       "      <td>0</td>\n",
       "      <td>2656</td>\n",
       "      <td>7.225</td>\n",
       "      <td>?</td>\n",
       "      <td>C</td>\n",
       "      <td>?</td>\n",
       "      <td>304</td>\n",
       "      <td>?</td>\n",
       "      <td>?</td>\n",
       "      <td>None</td>\n",
       "    </tr>\n",
       "    <tr>\n",
       "      <th>1307</th>\n",
       "      <td>3</td>\n",
       "      <td>0</td>\n",
       "      <td>Zakarian, Mr. Ortin</td>\n",
       "      <td>male</td>\n",
       "      <td>27</td>\n",
       "      <td>0</td>\n",
       "      <td>0</td>\n",
       "      <td>2670</td>\n",
       "      <td>7.225</td>\n",
       "      <td>?</td>\n",
       "      <td>C</td>\n",
       "      <td>?</td>\n",
       "      <td>?</td>\n",
       "      <td>?</td>\n",
       "      <td>?</td>\n",
       "      <td>None</td>\n",
       "    </tr>\n",
       "    <tr>\n",
       "      <th>1308</th>\n",
       "      <td>3</td>\n",
       "      <td>0</td>\n",
       "      <td>Zimmerman, Mr. Leo</td>\n",
       "      <td>male</td>\n",
       "      <td>29</td>\n",
       "      <td>0</td>\n",
       "      <td>0</td>\n",
       "      <td>315082</td>\n",
       "      <td>7.875</td>\n",
       "      <td>?</td>\n",
       "      <td>S</td>\n",
       "      <td>?</td>\n",
       "      <td>?</td>\n",
       "      <td>?</td>\n",
       "      <td>?</td>\n",
       "      <td>None</td>\n",
       "    </tr>\n",
       "  </tbody>\n",
       "</table>\n",
       "<p>843 rows × 16 columns</p>\n",
       "</div>"
      ],
      "text/plain": [
       "      pclass  survived                                  name   sex     age  \\\n",
       "1          1         1        Allison, Master. Hudson Trevor  male  0.9167   \n",
       "3          1         0  Allison, Mr. Hudson Joshua Creighton  male      30   \n",
       "5          1         1                   Anderson, Mr. Harry  male      48   \n",
       "7          1         0                Andrews, Mr. Thomas Jr  male      39   \n",
       "9          1         0               Artagaveytia, Mr. Ramon  male      71   \n",
       "...      ...       ...                                   ...   ...     ...   \n",
       "1302       3         0                     Yousif, Mr. Wazli  male       ?   \n",
       "1303       3         0                 Yousseff, Mr. Gerious  male       ?   \n",
       "1306       3         0             Zakarian, Mr. Mapriededer  male    26.5   \n",
       "1307       3         0                   Zakarian, Mr. Ortin  male      27   \n",
       "1308       3         0                    Zimmerman, Mr. Leo  male      29   \n",
       "\n",
       "      sibsp  parch    ticket     fare    cabin embarked boat body  \\\n",
       "1         1      2    113781   151.55  C22 C26        S   11    ?   \n",
       "3         1      2    113781   151.55  C22 C26        S    ?  135   \n",
       "5         0      0     19952    26.55      E12        S    3    ?   \n",
       "7         0      0    112050        0      A36        S    ?    ?   \n",
       "9         0      0  PC 17609  49.5042        ?        C    ?   22   \n",
       "...     ...    ...       ...      ...      ...      ...  ...  ...   \n",
       "1302      0      0      2647    7.225        ?        C    ?    ?   \n",
       "1303      0      0      2627  14.4583        ?        C    ?    ?   \n",
       "1306      0      0      2656    7.225        ?        C    ?  304   \n",
       "1307      0      0      2670    7.225        ?        C    ?    ?   \n",
       "1308      0      0    315082    7.875        ?        S    ?    ?   \n",
       "\n",
       "                            home.dest               source        destination  \n",
       "1     Montreal, PQ / Chesterville, ON        Montreal, PQ    Chesterville, ON  \n",
       "3     Montreal, PQ / Chesterville, ON        Montreal, PQ    Chesterville, ON  \n",
       "5                        New York, NY         New York, NY               None  \n",
       "7                         Belfast, NI          Belfast, NI               None  \n",
       "9                 Montevideo, Uruguay  Montevideo, Uruguay               None  \n",
       "...                               ...                  ...                ...  \n",
       "1302                                ?                    ?               None  \n",
       "1303                                ?                    ?               None  \n",
       "1306                                ?                    ?               None  \n",
       "1307                                ?                    ?               None  \n",
       "1308                                ?                    ?               None  \n",
       "\n",
       "[843 rows x 16 columns]"
      ]
     },
     "execution_count": 46,
     "metadata": {},
     "output_type": "execute_result"
    }
   ],
   "source": [
    "df.loc[df.sex.str.match('male')]"
   ]
  },
  {
   "cell_type": "markdown",
   "id": "b2d849f2-2654-4694-ae75-2a50f973d556",
   "metadata": {},
   "source": [
    "### str.contains"
   ]
  },
  {
   "cell_type": "markdown",
   "id": "a4ea5707-34a3-4616-9253-7a72b7e228cf",
   "metadata": {},
   "source": [
    "Use **str.contains()** to find words or patterns within a text field."
   ]
  },
  {
   "cell_type": "code",
   "execution_count": 47,
   "id": "599928bd-1db2-4516-b1e7-fe91067ce9aa",
   "metadata": {},
   "outputs": [
    {
     "data": {
      "text/html": [
       "<div>\n",
       "<style scoped>\n",
       "    .dataframe tbody tr th:only-of-type {\n",
       "        vertical-align: middle;\n",
       "    }\n",
       "\n",
       "    .dataframe tbody tr th {\n",
       "        vertical-align: top;\n",
       "    }\n",
       "\n",
       "    .dataframe thead th {\n",
       "        text-align: right;\n",
       "    }\n",
       "</style>\n",
       "<table border=\"1\" class=\"dataframe\">\n",
       "  <thead>\n",
       "    <tr style=\"text-align: right;\">\n",
       "      <th></th>\n",
       "      <th>pclass</th>\n",
       "      <th>survived</th>\n",
       "      <th>name</th>\n",
       "      <th>sex</th>\n",
       "      <th>age</th>\n",
       "      <th>sibsp</th>\n",
       "      <th>parch</th>\n",
       "      <th>ticket</th>\n",
       "      <th>fare</th>\n",
       "      <th>cabin</th>\n",
       "      <th>embarked</th>\n",
       "      <th>boat</th>\n",
       "      <th>body</th>\n",
       "      <th>home.dest</th>\n",
       "      <th>source</th>\n",
       "      <th>destination</th>\n",
       "    </tr>\n",
       "  </thead>\n",
       "  <tbody>\n",
       "    <tr>\n",
       "      <th>0</th>\n",
       "      <td>1</td>\n",
       "      <td>1</td>\n",
       "      <td>Allen, Miss. Elisabeth Walton</td>\n",
       "      <td>female</td>\n",
       "      <td>29</td>\n",
       "      <td>0</td>\n",
       "      <td>0</td>\n",
       "      <td>24160</td>\n",
       "      <td>211.3375</td>\n",
       "      <td>B5</td>\n",
       "      <td>S</td>\n",
       "      <td>2</td>\n",
       "      <td>?</td>\n",
       "      <td>St Louis, MO</td>\n",
       "      <td>St Louis, MO</td>\n",
       "      <td>None</td>\n",
       "    </tr>\n",
       "    <tr>\n",
       "      <th>1</th>\n",
       "      <td>1</td>\n",
       "      <td>1</td>\n",
       "      <td>Allison, Master. Hudson Trevor</td>\n",
       "      <td>male</td>\n",
       "      <td>0.9167</td>\n",
       "      <td>1</td>\n",
       "      <td>2</td>\n",
       "      <td>113781</td>\n",
       "      <td>151.55</td>\n",
       "      <td>C22 C26</td>\n",
       "      <td>S</td>\n",
       "      <td>11</td>\n",
       "      <td>?</td>\n",
       "      <td>Montreal, PQ / Chesterville, ON</td>\n",
       "      <td>Montreal, PQ</td>\n",
       "      <td>Chesterville, ON</td>\n",
       "    </tr>\n",
       "    <tr>\n",
       "      <th>2</th>\n",
       "      <td>1</td>\n",
       "      <td>0</td>\n",
       "      <td>Allison, Miss. Helen Loraine</td>\n",
       "      <td>female</td>\n",
       "      <td>2</td>\n",
       "      <td>1</td>\n",
       "      <td>2</td>\n",
       "      <td>113781</td>\n",
       "      <td>151.55</td>\n",
       "      <td>C22 C26</td>\n",
       "      <td>S</td>\n",
       "      <td>?</td>\n",
       "      <td>?</td>\n",
       "      <td>Montreal, PQ / Chesterville, ON</td>\n",
       "      <td>Montreal, PQ</td>\n",
       "      <td>Chesterville, ON</td>\n",
       "    </tr>\n",
       "    <tr>\n",
       "      <th>3</th>\n",
       "      <td>1</td>\n",
       "      <td>0</td>\n",
       "      <td>Allison, Mr. Hudson Joshua Creighton</td>\n",
       "      <td>male</td>\n",
       "      <td>30</td>\n",
       "      <td>1</td>\n",
       "      <td>2</td>\n",
       "      <td>113781</td>\n",
       "      <td>151.55</td>\n",
       "      <td>C22 C26</td>\n",
       "      <td>S</td>\n",
       "      <td>?</td>\n",
       "      <td>135</td>\n",
       "      <td>Montreal, PQ / Chesterville, ON</td>\n",
       "      <td>Montreal, PQ</td>\n",
       "      <td>Chesterville, ON</td>\n",
       "    </tr>\n",
       "    <tr>\n",
       "      <th>4</th>\n",
       "      <td>1</td>\n",
       "      <td>0</td>\n",
       "      <td>Allison, Mrs. Hudson J C (Bessie Waldo Daniels)</td>\n",
       "      <td>female</td>\n",
       "      <td>25</td>\n",
       "      <td>1</td>\n",
       "      <td>2</td>\n",
       "      <td>113781</td>\n",
       "      <td>151.55</td>\n",
       "      <td>C22 C26</td>\n",
       "      <td>S</td>\n",
       "      <td>?</td>\n",
       "      <td>?</td>\n",
       "      <td>Montreal, PQ / Chesterville, ON</td>\n",
       "      <td>Montreal, PQ</td>\n",
       "      <td>Chesterville, ON</td>\n",
       "    </tr>\n",
       "    <tr>\n",
       "      <th>...</th>\n",
       "      <td>...</td>\n",
       "      <td>...</td>\n",
       "      <td>...</td>\n",
       "      <td>...</td>\n",
       "      <td>...</td>\n",
       "      <td>...</td>\n",
       "      <td>...</td>\n",
       "      <td>...</td>\n",
       "      <td>...</td>\n",
       "      <td>...</td>\n",
       "      <td>...</td>\n",
       "      <td>...</td>\n",
       "      <td>...</td>\n",
       "      <td>...</td>\n",
       "      <td>...</td>\n",
       "      <td>...</td>\n",
       "    </tr>\n",
       "    <tr>\n",
       "      <th>1304</th>\n",
       "      <td>3</td>\n",
       "      <td>0</td>\n",
       "      <td>Zabour, Miss. Hileni</td>\n",
       "      <td>female</td>\n",
       "      <td>14.5</td>\n",
       "      <td>1</td>\n",
       "      <td>0</td>\n",
       "      <td>2665</td>\n",
       "      <td>14.4542</td>\n",
       "      <td>?</td>\n",
       "      <td>C</td>\n",
       "      <td>?</td>\n",
       "      <td>328</td>\n",
       "      <td>?</td>\n",
       "      <td>?</td>\n",
       "      <td>None</td>\n",
       "    </tr>\n",
       "    <tr>\n",
       "      <th>1305</th>\n",
       "      <td>3</td>\n",
       "      <td>0</td>\n",
       "      <td>Zabour, Miss. Thamine</td>\n",
       "      <td>female</td>\n",
       "      <td>?</td>\n",
       "      <td>1</td>\n",
       "      <td>0</td>\n",
       "      <td>2665</td>\n",
       "      <td>14.4542</td>\n",
       "      <td>?</td>\n",
       "      <td>C</td>\n",
       "      <td>?</td>\n",
       "      <td>?</td>\n",
       "      <td>?</td>\n",
       "      <td>?</td>\n",
       "      <td>None</td>\n",
       "    </tr>\n",
       "    <tr>\n",
       "      <th>1306</th>\n",
       "      <td>3</td>\n",
       "      <td>0</td>\n",
       "      <td>Zakarian, Mr. Mapriededer</td>\n",
       "      <td>male</td>\n",
       "      <td>26.5</td>\n",
       "      <td>0</td>\n",
       "      <td>0</td>\n",
       "      <td>2656</td>\n",
       "      <td>7.225</td>\n",
       "      <td>?</td>\n",
       "      <td>C</td>\n",
       "      <td>?</td>\n",
       "      <td>304</td>\n",
       "      <td>?</td>\n",
       "      <td>?</td>\n",
       "      <td>None</td>\n",
       "    </tr>\n",
       "    <tr>\n",
       "      <th>1307</th>\n",
       "      <td>3</td>\n",
       "      <td>0</td>\n",
       "      <td>Zakarian, Mr. Ortin</td>\n",
       "      <td>male</td>\n",
       "      <td>27</td>\n",
       "      <td>0</td>\n",
       "      <td>0</td>\n",
       "      <td>2670</td>\n",
       "      <td>7.225</td>\n",
       "      <td>?</td>\n",
       "      <td>C</td>\n",
       "      <td>?</td>\n",
       "      <td>?</td>\n",
       "      <td>?</td>\n",
       "      <td>?</td>\n",
       "      <td>None</td>\n",
       "    </tr>\n",
       "    <tr>\n",
       "      <th>1308</th>\n",
       "      <td>3</td>\n",
       "      <td>0</td>\n",
       "      <td>Zimmerman, Mr. Leo</td>\n",
       "      <td>male</td>\n",
       "      <td>29</td>\n",
       "      <td>0</td>\n",
       "      <td>0</td>\n",
       "      <td>315082</td>\n",
       "      <td>7.875</td>\n",
       "      <td>?</td>\n",
       "      <td>S</td>\n",
       "      <td>?</td>\n",
       "      <td>?</td>\n",
       "      <td>?</td>\n",
       "      <td>?</td>\n",
       "      <td>None</td>\n",
       "    </tr>\n",
       "  </tbody>\n",
       "</table>\n",
       "<p>1309 rows × 16 columns</p>\n",
       "</div>"
      ],
      "text/plain": [
       "      pclass  survived                                             name  \\\n",
       "0          1         1                    Allen, Miss. Elisabeth Walton   \n",
       "1          1         1                   Allison, Master. Hudson Trevor   \n",
       "2          1         0                     Allison, Miss. Helen Loraine   \n",
       "3          1         0             Allison, Mr. Hudson Joshua Creighton   \n",
       "4          1         0  Allison, Mrs. Hudson J C (Bessie Waldo Daniels)   \n",
       "...      ...       ...                                              ...   \n",
       "1304       3         0                             Zabour, Miss. Hileni   \n",
       "1305       3         0                            Zabour, Miss. Thamine   \n",
       "1306       3         0                        Zakarian, Mr. Mapriededer   \n",
       "1307       3         0                              Zakarian, Mr. Ortin   \n",
       "1308       3         0                               Zimmerman, Mr. Leo   \n",
       "\n",
       "         sex     age  sibsp  parch  ticket      fare    cabin embarked boat  \\\n",
       "0     female      29      0      0   24160  211.3375       B5        S    2   \n",
       "1       male  0.9167      1      2  113781    151.55  C22 C26        S   11   \n",
       "2     female       2      1      2  113781    151.55  C22 C26        S    ?   \n",
       "3       male      30      1      2  113781    151.55  C22 C26        S    ?   \n",
       "4     female      25      1      2  113781    151.55  C22 C26        S    ?   \n",
       "...      ...     ...    ...    ...     ...       ...      ...      ...  ...   \n",
       "1304  female    14.5      1      0    2665   14.4542        ?        C    ?   \n",
       "1305  female       ?      1      0    2665   14.4542        ?        C    ?   \n",
       "1306    male    26.5      0      0    2656     7.225        ?        C    ?   \n",
       "1307    male      27      0      0    2670     7.225        ?        C    ?   \n",
       "1308    male      29      0      0  315082     7.875        ?        S    ?   \n",
       "\n",
       "     body                        home.dest         source        destination  \n",
       "0       ?                     St Louis, MO   St Louis, MO               None  \n",
       "1       ?  Montreal, PQ / Chesterville, ON  Montreal, PQ    Chesterville, ON  \n",
       "2       ?  Montreal, PQ / Chesterville, ON  Montreal, PQ    Chesterville, ON  \n",
       "3     135  Montreal, PQ / Chesterville, ON  Montreal, PQ    Chesterville, ON  \n",
       "4       ?  Montreal, PQ / Chesterville, ON  Montreal, PQ    Chesterville, ON  \n",
       "...   ...                              ...            ...                ...  \n",
       "1304  328                                ?              ?               None  \n",
       "1305    ?                                ?              ?               None  \n",
       "1306  304                                ?              ?               None  \n",
       "1307    ?                                ?              ?               None  \n",
       "1308    ?                                ?              ?               None  \n",
       "\n",
       "[1309 rows x 16 columns]"
      ]
     },
     "execution_count": 47,
     "metadata": {},
     "output_type": "execute_result"
    }
   ],
   "source": [
    "df"
   ]
  },
  {
   "cell_type": "code",
   "execution_count": 48,
   "id": "33e1d686-3eca-41b8-8d2f-f987458ae038",
   "metadata": {},
   "outputs": [
    {
     "data": {
      "text/plain": [
       "0        True\n",
       "1       False\n",
       "2        True\n",
       "3       False\n",
       "4       False\n",
       "        ...  \n",
       "1304     True\n",
       "1305     True\n",
       "1306    False\n",
       "1307    False\n",
       "1308    False\n",
       "Name: name, Length: 1309, dtype: bool"
      ]
     },
     "execution_count": 48,
     "metadata": {},
     "output_type": "execute_result"
    }
   ],
   "source": [
    "miss = df.name.str.contains('Miss')\n",
    "miss"
   ]
  },
  {
   "cell_type": "code",
   "execution_count": 49,
   "id": "0875755e-7c64-4e8f-a756-93ab7d2ff0ea",
   "metadata": {},
   "outputs": [
    {
     "data": {
      "text/html": [
       "<div>\n",
       "<style scoped>\n",
       "    .dataframe tbody tr th:only-of-type {\n",
       "        vertical-align: middle;\n",
       "    }\n",
       "\n",
       "    .dataframe tbody tr th {\n",
       "        vertical-align: top;\n",
       "    }\n",
       "\n",
       "    .dataframe thead th {\n",
       "        text-align: right;\n",
       "    }\n",
       "</style>\n",
       "<table border=\"1\" class=\"dataframe\">\n",
       "  <thead>\n",
       "    <tr style=\"text-align: right;\">\n",
       "      <th></th>\n",
       "      <th>pclass</th>\n",
       "      <th>survived</th>\n",
       "      <th>name</th>\n",
       "      <th>sex</th>\n",
       "      <th>age</th>\n",
       "      <th>sibsp</th>\n",
       "      <th>parch</th>\n",
       "      <th>ticket</th>\n",
       "      <th>fare</th>\n",
       "      <th>cabin</th>\n",
       "      <th>embarked</th>\n",
       "      <th>boat</th>\n",
       "      <th>body</th>\n",
       "      <th>home.dest</th>\n",
       "      <th>source</th>\n",
       "      <th>destination</th>\n",
       "    </tr>\n",
       "  </thead>\n",
       "  <tbody>\n",
       "    <tr>\n",
       "      <th>0</th>\n",
       "      <td>1</td>\n",
       "      <td>1</td>\n",
       "      <td>Allen, Miss. Elisabeth Walton</td>\n",
       "      <td>female</td>\n",
       "      <td>29</td>\n",
       "      <td>0</td>\n",
       "      <td>0</td>\n",
       "      <td>24160</td>\n",
       "      <td>211.3375</td>\n",
       "      <td>B5</td>\n",
       "      <td>S</td>\n",
       "      <td>2</td>\n",
       "      <td>?</td>\n",
       "      <td>St Louis, MO</td>\n",
       "      <td>St Louis, MO</td>\n",
       "      <td>None</td>\n",
       "    </tr>\n",
       "    <tr>\n",
       "      <th>2</th>\n",
       "      <td>1</td>\n",
       "      <td>0</td>\n",
       "      <td>Allison, Miss. Helen Loraine</td>\n",
       "      <td>female</td>\n",
       "      <td>2</td>\n",
       "      <td>1</td>\n",
       "      <td>2</td>\n",
       "      <td>113781</td>\n",
       "      <td>151.55</td>\n",
       "      <td>C22 C26</td>\n",
       "      <td>S</td>\n",
       "      <td>?</td>\n",
       "      <td>?</td>\n",
       "      <td>Montreal, PQ / Chesterville, ON</td>\n",
       "      <td>Montreal, PQ</td>\n",
       "      <td>Chesterville, ON</td>\n",
       "    </tr>\n",
       "    <tr>\n",
       "      <th>6</th>\n",
       "      <td>1</td>\n",
       "      <td>1</td>\n",
       "      <td>Andrews, Miss. Kornelia Theodosia</td>\n",
       "      <td>female</td>\n",
       "      <td>63</td>\n",
       "      <td>1</td>\n",
       "      <td>0</td>\n",
       "      <td>13502</td>\n",
       "      <td>77.9583</td>\n",
       "      <td>D7</td>\n",
       "      <td>S</td>\n",
       "      <td>10</td>\n",
       "      <td>?</td>\n",
       "      <td>Hudson, NY</td>\n",
       "      <td>Hudson, NY</td>\n",
       "      <td>None</td>\n",
       "    </tr>\n",
       "    <tr>\n",
       "      <th>13</th>\n",
       "      <td>1</td>\n",
       "      <td>1</td>\n",
       "      <td>Barber, Miss. Ellen 'Nellie'</td>\n",
       "      <td>female</td>\n",
       "      <td>26</td>\n",
       "      <td>0</td>\n",
       "      <td>0</td>\n",
       "      <td>19877</td>\n",
       "      <td>78.85</td>\n",
       "      <td>?</td>\n",
       "      <td>S</td>\n",
       "      <td>6</td>\n",
       "      <td>?</td>\n",
       "      <td>?</td>\n",
       "      <td>?</td>\n",
       "      <td>None</td>\n",
       "    </tr>\n",
       "    <tr>\n",
       "      <th>18</th>\n",
       "      <td>1</td>\n",
       "      <td>1</td>\n",
       "      <td>Bazzani, Miss. Albina</td>\n",
       "      <td>female</td>\n",
       "      <td>32</td>\n",
       "      <td>0</td>\n",
       "      <td>0</td>\n",
       "      <td>11813</td>\n",
       "      <td>76.2917</td>\n",
       "      <td>D15</td>\n",
       "      <td>C</td>\n",
       "      <td>8</td>\n",
       "      <td>?</td>\n",
       "      <td>?</td>\n",
       "      <td>?</td>\n",
       "      <td>None</td>\n",
       "    </tr>\n",
       "    <tr>\n",
       "      <th>...</th>\n",
       "      <td>...</td>\n",
       "      <td>...</td>\n",
       "      <td>...</td>\n",
       "      <td>...</td>\n",
       "      <td>...</td>\n",
       "      <td>...</td>\n",
       "      <td>...</td>\n",
       "      <td>...</td>\n",
       "      <td>...</td>\n",
       "      <td>...</td>\n",
       "      <td>...</td>\n",
       "      <td>...</td>\n",
       "      <td>...</td>\n",
       "      <td>...</td>\n",
       "      <td>...</td>\n",
       "      <td>...</td>\n",
       "    </tr>\n",
       "    <tr>\n",
       "      <th>1265</th>\n",
       "      <td>3</td>\n",
       "      <td>0</td>\n",
       "      <td>Van Impe, Miss. Catharina</td>\n",
       "      <td>female</td>\n",
       "      <td>10</td>\n",
       "      <td>0</td>\n",
       "      <td>2</td>\n",
       "      <td>345773</td>\n",
       "      <td>24.15</td>\n",
       "      <td>?</td>\n",
       "      <td>S</td>\n",
       "      <td>?</td>\n",
       "      <td>?</td>\n",
       "      <td>?</td>\n",
       "      <td>?</td>\n",
       "      <td>None</td>\n",
       "    </tr>\n",
       "    <tr>\n",
       "      <th>1273</th>\n",
       "      <td>3</td>\n",
       "      <td>0</td>\n",
       "      <td>Vander Planke, Miss. Augusta Maria</td>\n",
       "      <td>female</td>\n",
       "      <td>18</td>\n",
       "      <td>2</td>\n",
       "      <td>0</td>\n",
       "      <td>345764</td>\n",
       "      <td>18</td>\n",
       "      <td>?</td>\n",
       "      <td>S</td>\n",
       "      <td>?</td>\n",
       "      <td>?</td>\n",
       "      <td>?</td>\n",
       "      <td>?</td>\n",
       "      <td>None</td>\n",
       "    </tr>\n",
       "    <tr>\n",
       "      <th>1279</th>\n",
       "      <td>3</td>\n",
       "      <td>0</td>\n",
       "      <td>Vestrom, Miss. Hulda Amanda Adolfina</td>\n",
       "      <td>female</td>\n",
       "      <td>14</td>\n",
       "      <td>0</td>\n",
       "      <td>0</td>\n",
       "      <td>350406</td>\n",
       "      <td>7.8542</td>\n",
       "      <td>?</td>\n",
       "      <td>S</td>\n",
       "      <td>?</td>\n",
       "      <td>?</td>\n",
       "      <td>?</td>\n",
       "      <td>?</td>\n",
       "      <td>None</td>\n",
       "    </tr>\n",
       "    <tr>\n",
       "      <th>1304</th>\n",
       "      <td>3</td>\n",
       "      <td>0</td>\n",
       "      <td>Zabour, Miss. Hileni</td>\n",
       "      <td>female</td>\n",
       "      <td>14.5</td>\n",
       "      <td>1</td>\n",
       "      <td>0</td>\n",
       "      <td>2665</td>\n",
       "      <td>14.4542</td>\n",
       "      <td>?</td>\n",
       "      <td>C</td>\n",
       "      <td>?</td>\n",
       "      <td>328</td>\n",
       "      <td>?</td>\n",
       "      <td>?</td>\n",
       "      <td>None</td>\n",
       "    </tr>\n",
       "    <tr>\n",
       "      <th>1305</th>\n",
       "      <td>3</td>\n",
       "      <td>0</td>\n",
       "      <td>Zabour, Miss. Thamine</td>\n",
       "      <td>female</td>\n",
       "      <td>?</td>\n",
       "      <td>1</td>\n",
       "      <td>0</td>\n",
       "      <td>2665</td>\n",
       "      <td>14.4542</td>\n",
       "      <td>?</td>\n",
       "      <td>C</td>\n",
       "      <td>?</td>\n",
       "      <td>?</td>\n",
       "      <td>?</td>\n",
       "      <td>?</td>\n",
       "      <td>None</td>\n",
       "    </tr>\n",
       "  </tbody>\n",
       "</table>\n",
       "<p>260 rows × 16 columns</p>\n",
       "</div>"
      ],
      "text/plain": [
       "      pclass  survived                                  name     sex   age  \\\n",
       "0          1         1         Allen, Miss. Elisabeth Walton  female    29   \n",
       "2          1         0          Allison, Miss. Helen Loraine  female     2   \n",
       "6          1         1     Andrews, Miss. Kornelia Theodosia  female    63   \n",
       "13         1         1          Barber, Miss. Ellen 'Nellie'  female    26   \n",
       "18         1         1                 Bazzani, Miss. Albina  female    32   \n",
       "...      ...       ...                                   ...     ...   ...   \n",
       "1265       3         0             Van Impe, Miss. Catharina  female    10   \n",
       "1273       3         0    Vander Planke, Miss. Augusta Maria  female    18   \n",
       "1279       3         0  Vestrom, Miss. Hulda Amanda Adolfina  female    14   \n",
       "1304       3         0                  Zabour, Miss. Hileni  female  14.5   \n",
       "1305       3         0                 Zabour, Miss. Thamine  female     ?   \n",
       "\n",
       "      sibsp  parch  ticket      fare    cabin embarked boat body  \\\n",
       "0         0      0   24160  211.3375       B5        S    2    ?   \n",
       "2         1      2  113781    151.55  C22 C26        S    ?    ?   \n",
       "6         1      0   13502   77.9583       D7        S   10    ?   \n",
       "13        0      0   19877     78.85        ?        S    6    ?   \n",
       "18        0      0   11813   76.2917      D15        C    8    ?   \n",
       "...     ...    ...     ...       ...      ...      ...  ...  ...   \n",
       "1265      0      2  345773     24.15        ?        S    ?    ?   \n",
       "1273      2      0  345764        18        ?        S    ?    ?   \n",
       "1279      0      0  350406    7.8542        ?        S    ?    ?   \n",
       "1304      1      0    2665   14.4542        ?        C    ?  328   \n",
       "1305      1      0    2665   14.4542        ?        C    ?    ?   \n",
       "\n",
       "                            home.dest         source        destination  \n",
       "0                        St Louis, MO   St Louis, MO               None  \n",
       "2     Montreal, PQ / Chesterville, ON  Montreal, PQ    Chesterville, ON  \n",
       "6                          Hudson, NY     Hudson, NY               None  \n",
       "13                                  ?              ?               None  \n",
       "18                                  ?              ?               None  \n",
       "...                               ...            ...                ...  \n",
       "1265                                ?              ?               None  \n",
       "1273                                ?              ?               None  \n",
       "1279                                ?              ?               None  \n",
       "1304                                ?              ?               None  \n",
       "1305                                ?              ?               None  \n",
       "\n",
       "[260 rows x 16 columns]"
      ]
     },
     "execution_count": 49,
     "metadata": {},
     "output_type": "execute_result"
    }
   ],
   "source": [
    "df.loc[miss]"
   ]
  },
  {
   "cell_type": "markdown",
   "id": "10f084eb-0a71-43bc-a8c5-4fcaa884f0ee",
   "metadata": {},
   "source": [
    "## 07. Slicing Substrings"
   ]
  },
  {
   "cell_type": "markdown",
   "id": "9f73ffa1-1319-4390-a1c7-9622032d2396",
   "metadata": {},
   "source": [
    "### str.slice()"
   ]
  },
  {
   "cell_type": "code",
   "execution_count": 50,
   "id": "dc886360-18da-4c26-9716-a01fc43fe0d0",
   "metadata": {},
   "outputs": [
    {
     "data": {
      "text/plain": [
       "0       Allen, Mis\n",
       "1       Allison, M\n",
       "2       Allison, M\n",
       "3       Allison, M\n",
       "4       Allison, M\n",
       "           ...    \n",
       "1304    Zabour, Mi\n",
       "1305    Zabour, Mi\n",
       "1306    Zakarian, \n",
       "1307    Zakarian, \n",
       "1308    Zimmerman,\n",
       "Name: name, Length: 1309, dtype: object"
      ]
     },
     "execution_count": 50,
     "metadata": {},
     "output_type": "execute_result"
    }
   ],
   "source": [
    "df.name.str.slice(start=0, stop=10, step=1)"
   ]
  },
  {
   "cell_type": "markdown",
   "id": "f262b3b0-fe7b-4a0d-98d4-f51c5a478882",
   "metadata": {},
   "source": [
    "### str.indexing"
   ]
  },
  {
   "cell_type": "code",
   "execution_count": 51,
   "id": "00c19fb7-96ff-486f-a3fe-96c06f363c4e",
   "metadata": {},
   "outputs": [
    {
     "data": {
      "text/plain": [
       "0       Allen, Mis\n",
       "1       Allison, M\n",
       "2       Allison, M\n",
       "3       Allison, M\n",
       "4       Allison, M\n",
       "           ...    \n",
       "1304    Zabour, Mi\n",
       "1305    Zabour, Mi\n",
       "1306    Zakarian, \n",
       "1307    Zakarian, \n",
       "1308    Zimmerman,\n",
       "Name: name, Length: 1309, dtype: object"
      ]
     },
     "execution_count": 51,
     "metadata": {},
     "output_type": "execute_result"
    }
   ],
   "source": [
    "df.name.str[0:10:1]"
   ]
  },
  {
   "cell_type": "markdown",
   "id": "d97bbef4-ebc3-41d2-958f-e0f33cba7907",
   "metadata": {},
   "source": [
    "## 08. String Replacement"
   ]
  },
  {
   "cell_type": "markdown",
   "id": "418ef017-c397-4072-9e02-13442592084a",
   "metadata": {},
   "source": [
    "### str.replace()"
   ]
  },
  {
   "cell_type": "code",
   "execution_count": 52,
   "id": "67a843e6-e1a9-4cd6-8081-e3df352cdf66",
   "metadata": {},
   "outputs": [
    {
     "data": {
      "text/plain": [
       "0       F\n",
       "1       M\n",
       "2       F\n",
       "3       M\n",
       "4       F\n",
       "       ..\n",
       "1304    F\n",
       "1305    F\n",
       "1306    M\n",
       "1307    M\n",
       "1308    M\n",
       "Name: sex, Length: 1309, dtype: object"
      ]
     },
     "execution_count": 52,
     "metadata": {},
     "output_type": "execute_result"
    }
   ],
   "source": [
    "(df.sex\n",
    "   .str.replace('female','F')\n",
    "   .str.replace('male', 'M')\n",
    ")"
   ]
  },
  {
   "cell_type": "code",
   "execution_count": 53,
   "id": "cbc35561-aa0d-425c-a9e2-2c1116415cfb",
   "metadata": {},
   "outputs": [
    {
     "data": {
      "text/plain": [
       "0       F\n",
       "1       M\n",
       "2       F\n",
       "3       M\n",
       "4       F\n",
       "       ..\n",
       "1304    F\n",
       "1305    F\n",
       "1306    M\n",
       "1307    M\n",
       "1308    M\n",
       "Name: sex, Length: 1309, dtype: object"
      ]
     },
     "execution_count": 53,
     "metadata": {},
     "output_type": "execute_result"
    }
   ],
   "source": [
    "(df.sex\n",
    "   .str.replace('female','F')\n",
    "   .str.replace('male', 'M')\n",
    ")"
   ]
  },
  {
   "cell_type": "code",
   "execution_count": 54,
   "id": "6f202130-8e45-45af-9735-72fed828d72b",
   "metadata": {},
   "outputs": [],
   "source": [
    "df.age = df.age.replace('?', 0)"
   ]
  },
  {
   "cell_type": "code",
   "execution_count": 55,
   "id": "a890f20e-256a-4bf6-a6d0-e2aafdc1714c",
   "metadata": {},
   "outputs": [],
   "source": [
    "df.fare = df.fare.replace('?',0).astype(float)"
   ]
  },
  {
   "cell_type": "markdown",
   "id": "72b9cf14-f821-4e88-8f91-82d20e9f44f9",
   "metadata": {},
   "source": [
    "### case insensitive replacement"
   ]
  },
  {
   "cell_type": "code",
   "execution_count": 56,
   "id": "89a128fe-e6a9-49d2-8ec0-8515d222ffe0",
   "metadata": {},
   "outputs": [
    {
     "data": {
      "text/plain": [
       "0       femaleale\n",
       "1         maleale\n",
       "2       femaleale\n",
       "3         maleale\n",
       "4       femaleale\n",
       "          ...    \n",
       "1304    femaleale\n",
       "1305    femaleale\n",
       "1306      maleale\n",
       "1307      maleale\n",
       "1308      maleale\n",
       "Name: sex, Length: 1309, dtype: object"
      ]
     },
     "execution_count": 56,
     "metadata": {},
     "output_type": "execute_result"
    }
   ],
   "source": [
    "df.sex.str.replace('m', 'male')"
   ]
  },
  {
   "cell_type": "code",
   "execution_count": 57,
   "id": "e0f23c67-d003-4028-ac46-c476ea408aab",
   "metadata": {},
   "outputs": [
    {
     "data": {
      "text/plain": [
       "0       femaleale\n",
       "1         maleale\n",
       "2       femaleale\n",
       "3         maleale\n",
       "4       femaleale\n",
       "          ...    \n",
       "1304    femaleale\n",
       "1305    femaleale\n",
       "1306      maleale\n",
       "1307      maleale\n",
       "1308      maleale\n",
       "Name: sex, Length: 1309, dtype: object"
      ]
     },
     "execution_count": 57,
     "metadata": {},
     "output_type": "execute_result"
    }
   ],
   "source": [
    "df.sex.str.replace('m', 'male', case=False)"
   ]
  },
  {
   "cell_type": "markdown",
   "id": "a16dbdde-97dc-47ee-b4e0-8b0358b49c7c",
   "metadata": {},
   "source": [
    "## 09. Values Mappings"
   ]
  },
  {
   "cell_type": "markdown",
   "id": "ec765515-e69c-4169-9ec3-60a468b8cbca",
   "metadata": {},
   "source": [
    "Use **`.map()`** to map values from one set of values to another set of values."
   ]
  },
  {
   "cell_type": "code",
   "execution_count": 58,
   "id": "9ee54a35-2183-4e64-b2cb-be9389f95a30",
   "metadata": {},
   "outputs": [],
   "source": [
    "sex_mappings = {\n",
    "    'M':'male',\n",
    "    \"F\":'female'\n",
    "}"
   ]
  },
  {
   "cell_type": "code",
   "execution_count": 59,
   "id": "1aa9ca71-b89d-4711-8bf6-45b974920bfa",
   "metadata": {},
   "outputs": [
    {
     "data": {
      "text/plain": [
       "0       NaN\n",
       "1       NaN\n",
       "2       NaN\n",
       "3       NaN\n",
       "4       NaN\n",
       "       ... \n",
       "1304    NaN\n",
       "1305    NaN\n",
       "1306    NaN\n",
       "1307    NaN\n",
       "1308    NaN\n",
       "Name: sex, Length: 1309, dtype: object"
      ]
     },
     "execution_count": 59,
     "metadata": {},
     "output_type": "execute_result"
    }
   ],
   "source": [
    "df.sex.map(sex_mappings)"
   ]
  },
  {
   "cell_type": "markdown",
   "id": "36b98f7e-a791-4c68-84f8-975a6b16f3e8",
   "metadata": {},
   "source": [
    "## 10. Apply functions"
   ]
  },
  {
   "cell_type": "markdown",
   "id": "2d636b56-b03b-4562-a05d-3bf7e4e2b9a8",
   "metadata": {},
   "source": [
    "### simple functions"
   ]
  },
  {
   "cell_type": "code",
   "execution_count": 60,
   "id": "d187c10d-f552-45db-aeae-ba9ff53e9e84",
   "metadata": {},
   "outputs": [],
   "source": [
    "df.age = df.age.astype('float').round()"
   ]
  },
  {
   "cell_type": "code",
   "execution_count": 61,
   "id": "9d414ab3-ae78-40ec-b636-8285f49aa840",
   "metadata": {},
   "outputs": [],
   "source": [
    "def get_age_group(age):\n",
    "    if age < 2:\n",
    "        return 'dependent'\n",
    "    elif age < 12:\n",
    "        return 'troubler'\n",
    "    elif age < 18:\n",
    "        return 'idiots'\n",
    "    elif age < 35:\n",
    "        return 'responsiblities'\n",
    "    elif age < 50:\n",
    "        return 'mid-life crisis'\n",
    "    elif age < 65:\n",
    "        return 'wandering'\n",
    "    else: \n",
    "        return 'give up on life'"
   ]
  },
  {
   "cell_type": "code",
   "execution_count": 62,
   "id": "1f7f4524-9025-4f3a-a3c8-b3d80aa84df6",
   "metadata": {},
   "outputs": [
    {
     "data": {
      "text/plain": [
       "0       responsiblities\n",
       "1             dependent\n",
       "2              troubler\n",
       "3       responsiblities\n",
       "4       responsiblities\n",
       "             ...       \n",
       "1304             idiots\n",
       "1305          dependent\n",
       "1306    responsiblities\n",
       "1307    responsiblities\n",
       "1308    responsiblities\n",
       "Name: age, Length: 1309, dtype: object"
      ]
     },
     "execution_count": 62,
     "metadata": {},
     "output_type": "execute_result"
    }
   ],
   "source": [
    "df.age.apply(get_age_group)"
   ]
  },
  {
   "cell_type": "code",
   "execution_count": 63,
   "id": "ebcff653-c74a-4ce5-ab58-f9a3d4c6be5c",
   "metadata": {},
   "outputs": [
    {
     "data": {
      "image/png": "[encoded data removed]",
      "text/plain": [
       "<Figure size 640x480 with 1 Axes>"
      ]
     },
     "metadata": {},
     "output_type": "display_data"
    }
   ],
   "source": [
    "df.age.apply(get_age_group).value_counts().sort_values().plot(kind='barh');"
   ]
  },
  {
   "cell_type": "markdown",
   "id": "771c060b-2a2d-4499-a107-0c07a8498de3",
   "metadata": {},
   "source": [
    "### lambda functions"
   ]
  },
  {
   "cell_type": "code",
   "execution_count": 64,
   "id": "7c8efdeb-e1a5-4764-b197-66981a3d5c6e",
   "metadata": {},
   "outputs": [],
   "source": [
    "df['fare'] = df['fare'].round()"
   ]
  },
  {
   "cell_type": "code",
   "execution_count": 65,
   "id": "ae0cfc87-3418-4f9e-bf5c-972de9ec7ec3",
   "metadata": {},
   "outputs": [
    {
     "data": {
      "text/plain": [
       "0       211.0\n",
       "1       152.0\n",
       "2       152.0\n",
       "3       152.0\n",
       "4       152.0\n",
       "        ...  \n",
       "1304     14.0\n",
       "1305     14.0\n",
       "1306      7.0\n",
       "1307      7.0\n",
       "1308      8.0\n",
       "Name: fare, Length: 1309, dtype: float64"
      ]
     },
     "execution_count": 65,
     "metadata": {},
     "output_type": "execute_result"
    }
   ],
   "source": [
    "df['fare']"
   ]
  },
  {
   "cell_type": "code",
   "execution_count": 66,
   "id": "3e6bc4e7-6122-43d6-bed1-72dee1e7dc0c",
   "metadata": {},
   "outputs": [
    {
     "data": {
      "text/plain": [
       "0       $ 5064.0\n",
       "1       $ 3648.0\n",
       "2       $ 3648.0\n",
       "3       $ 3648.0\n",
       "4       $ 3648.0\n",
       "          ...   \n",
       "1304     $ 336.0\n",
       "1305     $ 336.0\n",
       "1306     $ 168.0\n",
       "1307     $ 168.0\n",
       "1308     $ 192.0\n",
       "Name: fare, Length: 1309, dtype: object"
      ]
     },
     "execution_count": 66,
     "metadata": {},
     "output_type": "execute_result"
    }
   ],
   "source": [
    "df['fare'].apply(lambda fare: f\"$ {fare*24}\")"
   ]
  },
  {
   "cell_type": "markdown",
   "id": "dc0a7b8f-85ac-4b23-9f7f-d8ddb81daf18",
   "metadata": {},
   "source": [
    "### lambda funcs with arguments"
   ]
  },
  {
   "cell_type": "code",
   "execution_count": 67,
   "id": "1d0f2160-7300-4eea-9959-ad5ae3fc4e25",
   "metadata": {},
   "outputs": [],
   "source": [
    "def convert_currency(num, multiplier):\n",
    "    return f\"$ {num*multiplier}\""
   ]
  },
  {
   "cell_type": "code",
   "execution_count": 68,
   "id": "0f64cf13-41b4-4abc-b174-9a5bb674d1d7",
   "metadata": {},
   "outputs": [
    {
     "data": {
      "text/plain": [
       "0       $ 5064.0\n",
       "1       $ 3648.0\n",
       "2       $ 3648.0\n",
       "3       $ 3648.0\n",
       "4       $ 3648.0\n",
       "          ...   \n",
       "1304     $ 336.0\n",
       "1305     $ 336.0\n",
       "1306     $ 168.0\n",
       "1307     $ 168.0\n",
       "1308     $ 192.0\n",
       "Name: fare, Length: 1309, dtype: object"
      ]
     },
     "execution_count": 68,
     "metadata": {},
     "output_type": "execute_result"
    }
   ],
   "source": [
    "df['fare'].apply(convert_currency, args=(24,))\n",
    "# in args, ',' has to be mentioned otherwise it doesn't work."
   ]
  },
  {
   "cell_type": "markdown",
   "id": "5abfe166-21ba-4cfc-9a06-07b77a7d5455",
   "metadata": {},
   "source": [
    "## 11.  Parsing indicators with get_dummies()"
   ]
  },
  {
   "cell_type": "code",
   "execution_count": 69,
   "id": "6df4d4f1-18bd-41c0-8e63-6f1d2a0a9529",
   "metadata": {},
   "outputs": [
    {
     "data": {
      "text/html": [
       "<div>\n",
       "<style scoped>\n",
       "    .dataframe tbody tr th:only-of-type {\n",
       "        vertical-align: middle;\n",
       "    }\n",
       "\n",
       "    .dataframe tbody tr th {\n",
       "        vertical-align: top;\n",
       "    }\n",
       "\n",
       "    .dataframe thead th {\n",
       "        text-align: right;\n",
       "    }\n",
       "</style>\n",
       "<table border=\"1\" class=\"dataframe\">\n",
       "  <thead>\n",
       "    <tr style=\"text-align: right;\">\n",
       "      <th></th>\n",
       "      <th>pclass</th>\n",
       "      <th>survived</th>\n",
       "      <th>name</th>\n",
       "      <th>sex</th>\n",
       "      <th>age</th>\n",
       "      <th>sibsp</th>\n",
       "      <th>parch</th>\n",
       "      <th>ticket</th>\n",
       "      <th>fare</th>\n",
       "      <th>cabin</th>\n",
       "      <th>embarked</th>\n",
       "      <th>boat</th>\n",
       "      <th>body</th>\n",
       "      <th>home.dest</th>\n",
       "      <th>source</th>\n",
       "      <th>destination</th>\n",
       "    </tr>\n",
       "  </thead>\n",
       "  <tbody>\n",
       "    <tr>\n",
       "      <th>0</th>\n",
       "      <td>1</td>\n",
       "      <td>1</td>\n",
       "      <td>Allen, Miss. Elisabeth Walton</td>\n",
       "      <td>female</td>\n",
       "      <td>29.0</td>\n",
       "      <td>0</td>\n",
       "      <td>0</td>\n",
       "      <td>24160</td>\n",
       "      <td>211.0</td>\n",
       "      <td>B5</td>\n",
       "      <td>S</td>\n",
       "      <td>2</td>\n",
       "      <td>?</td>\n",
       "      <td>St Louis, MO</td>\n",
       "      <td>St Louis, MO</td>\n",
       "      <td>None</td>\n",
       "    </tr>\n",
       "    <tr>\n",
       "      <th>1</th>\n",
       "      <td>1</td>\n",
       "      <td>1</td>\n",
       "      <td>Allison, Master. Hudson Trevor</td>\n",
       "      <td>male</td>\n",
       "      <td>1.0</td>\n",
       "      <td>1</td>\n",
       "      <td>2</td>\n",
       "      <td>113781</td>\n",
       "      <td>152.0</td>\n",
       "      <td>C22 C26</td>\n",
       "      <td>S</td>\n",
       "      <td>11</td>\n",
       "      <td>?</td>\n",
       "      <td>Montreal, PQ / Chesterville, ON</td>\n",
       "      <td>Montreal, PQ</td>\n",
       "      <td>Chesterville, ON</td>\n",
       "    </tr>\n",
       "    <tr>\n",
       "      <th>2</th>\n",
       "      <td>1</td>\n",
       "      <td>0</td>\n",
       "      <td>Allison, Miss. Helen Loraine</td>\n",
       "      <td>female</td>\n",
       "      <td>2.0</td>\n",
       "      <td>1</td>\n",
       "      <td>2</td>\n",
       "      <td>113781</td>\n",
       "      <td>152.0</td>\n",
       "      <td>C22 C26</td>\n",
       "      <td>S</td>\n",
       "      <td>?</td>\n",
       "      <td>?</td>\n",
       "      <td>Montreal, PQ / Chesterville, ON</td>\n",
       "      <td>Montreal, PQ</td>\n",
       "      <td>Chesterville, ON</td>\n",
       "    </tr>\n",
       "    <tr>\n",
       "      <th>3</th>\n",
       "      <td>1</td>\n",
       "      <td>0</td>\n",
       "      <td>Allison, Mr. Hudson Joshua Creighton</td>\n",
       "      <td>male</td>\n",
       "      <td>30.0</td>\n",
       "      <td>1</td>\n",
       "      <td>2</td>\n",
       "      <td>113781</td>\n",
       "      <td>152.0</td>\n",
       "      <td>C22 C26</td>\n",
       "      <td>S</td>\n",
       "      <td>?</td>\n",
       "      <td>135</td>\n",
       "      <td>Montreal, PQ / Chesterville, ON</td>\n",
       "      <td>Montreal, PQ</td>\n",
       "      <td>Chesterville, ON</td>\n",
       "    </tr>\n",
       "    <tr>\n",
       "      <th>4</th>\n",
       "      <td>1</td>\n",
       "      <td>0</td>\n",
       "      <td>Allison, Mrs. Hudson J C (Bessie Waldo Daniels)</td>\n",
       "      <td>female</td>\n",
       "      <td>25.0</td>\n",
       "      <td>1</td>\n",
       "      <td>2</td>\n",
       "      <td>113781</td>\n",
       "      <td>152.0</td>\n",
       "      <td>C22 C26</td>\n",
       "      <td>S</td>\n",
       "      <td>?</td>\n",
       "      <td>?</td>\n",
       "      <td>Montreal, PQ / Chesterville, ON</td>\n",
       "      <td>Montreal, PQ</td>\n",
       "      <td>Chesterville, ON</td>\n",
       "    </tr>\n",
       "  </tbody>\n",
       "</table>\n",
       "</div>"
      ],
      "text/plain": [
       "   pclass  survived                                             name     sex  \\\n",
       "0       1         1                    Allen, Miss. Elisabeth Walton  female   \n",
       "1       1         1                   Allison, Master. Hudson Trevor    male   \n",
       "2       1         0                     Allison, Miss. Helen Loraine  female   \n",
       "3       1         0             Allison, Mr. Hudson Joshua Creighton    male   \n",
       "4       1         0  Allison, Mrs. Hudson J C (Bessie Waldo Daniels)  female   \n",
       "\n",
       "    age  sibsp  parch  ticket   fare    cabin embarked boat body  \\\n",
       "0  29.0      0      0   24160  211.0       B5        S    2    ?   \n",
       "1   1.0      1      2  113781  152.0  C22 C26        S   11    ?   \n",
       "2   2.0      1      2  113781  152.0  C22 C26        S    ?    ?   \n",
       "3  30.0      1      2  113781  152.0  C22 C26        S    ?  135   \n",
       "4  25.0      1      2  113781  152.0  C22 C26        S    ?    ?   \n",
       "\n",
       "                         home.dest         source        destination  \n",
       "0                     St Louis, MO   St Louis, MO               None  \n",
       "1  Montreal, PQ / Chesterville, ON  Montreal, PQ    Chesterville, ON  \n",
       "2  Montreal, PQ / Chesterville, ON  Montreal, PQ    Chesterville, ON  \n",
       "3  Montreal, PQ / Chesterville, ON  Montreal, PQ    Chesterville, ON  \n",
       "4  Montreal, PQ / Chesterville, ON  Montreal, PQ    Chesterville, ON  "
      ]
     },
     "execution_count": 69,
     "metadata": {},
     "output_type": "execute_result"
    }
   ],
   "source": [
    "df.head()"
   ]
  },
  {
   "cell_type": "code",
   "execution_count": 70,
   "id": "5726aa1f-8237-48b6-ba07-75f38aafbcfc",
   "metadata": {},
   "outputs": [
    {
     "data": {
      "text/html": [
       "<div>\n",
       "<style scoped>\n",
       "    .dataframe tbody tr th:only-of-type {\n",
       "        vertical-align: middle;\n",
       "    }\n",
       "\n",
       "    .dataframe tbody tr th {\n",
       "        vertical-align: top;\n",
       "    }\n",
       "\n",
       "    .dataframe thead th {\n",
       "        text-align: right;\n",
       "    }\n",
       "</style>\n",
       "<table border=\"1\" class=\"dataframe\">\n",
       "  <thead>\n",
       "    <tr style=\"text-align: right;\">\n",
       "      <th></th>\n",
       "      <th>female</th>\n",
       "      <th>male</th>\n",
       "    </tr>\n",
       "  </thead>\n",
       "  <tbody>\n",
       "    <tr>\n",
       "      <th>0</th>\n",
       "      <td>1</td>\n",
       "      <td>0</td>\n",
       "    </tr>\n",
       "    <tr>\n",
       "      <th>1</th>\n",
       "      <td>0</td>\n",
       "      <td>1</td>\n",
       "    </tr>\n",
       "    <tr>\n",
       "      <th>2</th>\n",
       "      <td>1</td>\n",
       "      <td>0</td>\n",
       "    </tr>\n",
       "    <tr>\n",
       "      <th>3</th>\n",
       "      <td>0</td>\n",
       "      <td>1</td>\n",
       "    </tr>\n",
       "    <tr>\n",
       "      <th>4</th>\n",
       "      <td>1</td>\n",
       "      <td>0</td>\n",
       "    </tr>\n",
       "    <tr>\n",
       "      <th>...</th>\n",
       "      <td>...</td>\n",
       "      <td>...</td>\n",
       "    </tr>\n",
       "    <tr>\n",
       "      <th>1304</th>\n",
       "      <td>1</td>\n",
       "      <td>0</td>\n",
       "    </tr>\n",
       "    <tr>\n",
       "      <th>1305</th>\n",
       "      <td>1</td>\n",
       "      <td>0</td>\n",
       "    </tr>\n",
       "    <tr>\n",
       "      <th>1306</th>\n",
       "      <td>0</td>\n",
       "      <td>1</td>\n",
       "    </tr>\n",
       "    <tr>\n",
       "      <th>1307</th>\n",
       "      <td>0</td>\n",
       "      <td>1</td>\n",
       "    </tr>\n",
       "    <tr>\n",
       "      <th>1308</th>\n",
       "      <td>0</td>\n",
       "      <td>1</td>\n",
       "    </tr>\n",
       "  </tbody>\n",
       "</table>\n",
       "<p>1309 rows × 2 columns</p>\n",
       "</div>"
      ],
      "text/plain": [
       "      female  male\n",
       "0          1     0\n",
       "1          0     1\n",
       "2          1     0\n",
       "3          0     1\n",
       "4          1     0\n",
       "...      ...   ...\n",
       "1304       1     0\n",
       "1305       1     0\n",
       "1306       0     1\n",
       "1307       0     1\n",
       "1308       0     1\n",
       "\n",
       "[1309 rows x 2 columns]"
      ]
     },
     "execution_count": 70,
     "metadata": {},
     "output_type": "execute_result"
    }
   ],
   "source": [
    "df['sex'].str.get_dummies()"
   ]
  },
  {
   "cell_type": "markdown",
   "id": "dd025617-7d58-4a98-9298-b8eb772d1686",
   "metadata": {},
   "source": [
    "### the df.insert() and .columns.get_loc"
   ]
  },
  {
   "cell_type": "code",
   "execution_count": 71,
   "id": "386abbdd-910c-435b-8dc7-c6151a97251d",
   "metadata": {},
   "outputs": [
    {
     "data": {
      "text/html": [
       "<div>\n",
       "<style scoped>\n",
       "    .dataframe tbody tr th:only-of-type {\n",
       "        vertical-align: middle;\n",
       "    }\n",
       "\n",
       "    .dataframe tbody tr th {\n",
       "        vertical-align: top;\n",
       "    }\n",
       "\n",
       "    .dataframe thead th {\n",
       "        text-align: right;\n",
       "    }\n",
       "</style>\n",
       "<table border=\"1\" class=\"dataframe\">\n",
       "  <thead>\n",
       "    <tr style=\"text-align: right;\">\n",
       "      <th></th>\n",
       "      <th>female</th>\n",
       "      <th>male</th>\n",
       "    </tr>\n",
       "  </thead>\n",
       "  <tbody>\n",
       "    <tr>\n",
       "      <th>0</th>\n",
       "      <td>1</td>\n",
       "      <td>0</td>\n",
       "    </tr>\n",
       "    <tr>\n",
       "      <th>1</th>\n",
       "      <td>0</td>\n",
       "      <td>1</td>\n",
       "    </tr>\n",
       "    <tr>\n",
       "      <th>2</th>\n",
       "      <td>1</td>\n",
       "      <td>0</td>\n",
       "    </tr>\n",
       "    <tr>\n",
       "      <th>3</th>\n",
       "      <td>0</td>\n",
       "      <td>1</td>\n",
       "    </tr>\n",
       "    <tr>\n",
       "      <th>4</th>\n",
       "      <td>1</td>\n",
       "      <td>0</td>\n",
       "    </tr>\n",
       "    <tr>\n",
       "      <th>...</th>\n",
       "      <td>...</td>\n",
       "      <td>...</td>\n",
       "    </tr>\n",
       "    <tr>\n",
       "      <th>1304</th>\n",
       "      <td>1</td>\n",
       "      <td>0</td>\n",
       "    </tr>\n",
       "    <tr>\n",
       "      <th>1305</th>\n",
       "      <td>1</td>\n",
       "      <td>0</td>\n",
       "    </tr>\n",
       "    <tr>\n",
       "      <th>1306</th>\n",
       "      <td>0</td>\n",
       "      <td>1</td>\n",
       "    </tr>\n",
       "    <tr>\n",
       "      <th>1307</th>\n",
       "      <td>0</td>\n",
       "      <td>1</td>\n",
       "    </tr>\n",
       "    <tr>\n",
       "      <th>1308</th>\n",
       "      <td>0</td>\n",
       "      <td>1</td>\n",
       "    </tr>\n",
       "  </tbody>\n",
       "</table>\n",
       "<p>1309 rows × 2 columns</p>\n",
       "</div>"
      ],
      "text/plain": [
       "      female  male\n",
       "0          1     0\n",
       "1          0     1\n",
       "2          1     0\n",
       "3          0     1\n",
       "4          1     0\n",
       "...      ...   ...\n",
       "1304       1     0\n",
       "1305       1     0\n",
       "1306       0     1\n",
       "1307       0     1\n",
       "1308       0     1\n",
       "\n",
       "[1309 rows x 2 columns]"
      ]
     },
     "execution_count": 71,
     "metadata": {},
     "output_type": "execute_result"
    }
   ],
   "source": [
    "dummies = df['sex'].str.get_dummies()\n",
    "dummies"
   ]
  },
  {
   "cell_type": "code",
   "execution_count": 74,
   "id": "a03c0900-5de2-4edd-a095-dc5566c174d2",
   "metadata": {},
   "outputs": [],
   "source": [
    "df.insert(\n",
    "    df.columns.get_loc('sex')+1,\n",
    "    'Male',\n",
    "    dummies['male']\n",
    ")\n",
    "\n",
    "df.insert(\n",
    "    df.columns.get_loc('sex')+2,\n",
    "    'Female',\n",
    "    dummies['female']\n",
    ")"
   ]
  },
  {
   "cell_type": "code",
   "execution_count": 75,
   "id": "7754c4dd-3721-4827-8b05-3edccc1c8152",
   "metadata": {},
   "outputs": [
    {
     "data": {
      "text/html": [
       "<div>\n",
       "<style scoped>\n",
       "    .dataframe tbody tr th:only-of-type {\n",
       "        vertical-align: middle;\n",
       "    }\n",
       "\n",
       "    .dataframe tbody tr th {\n",
       "        vertical-align: top;\n",
       "    }\n",
       "\n",
       "    .dataframe thead th {\n",
       "        text-align: right;\n",
       "    }\n",
       "</style>\n",
       "<table border=\"1\" class=\"dataframe\">\n",
       "  <thead>\n",
       "    <tr style=\"text-align: right;\">\n",
       "      <th></th>\n",
       "      <th>pclass</th>\n",
       "      <th>survived</th>\n",
       "      <th>name</th>\n",
       "      <th>sex</th>\n",
       "      <th>Male</th>\n",
       "      <th>Female</th>\n",
       "      <th>age</th>\n",
       "      <th>sibsp</th>\n",
       "      <th>parch</th>\n",
       "      <th>ticket</th>\n",
       "      <th>fare</th>\n",
       "      <th>cabin</th>\n",
       "      <th>embarked</th>\n",
       "      <th>boat</th>\n",
       "      <th>body</th>\n",
       "      <th>home.dest</th>\n",
       "      <th>source</th>\n",
       "      <th>destination</th>\n",
       "    </tr>\n",
       "  </thead>\n",
       "  <tbody>\n",
       "    <tr>\n",
       "      <th>0</th>\n",
       "      <td>1</td>\n",
       "      <td>1</td>\n",
       "      <td>Allen, Miss. Elisabeth Walton</td>\n",
       "      <td>female</td>\n",
       "      <td>0</td>\n",
       "      <td>1</td>\n",
       "      <td>29.0</td>\n",
       "      <td>0</td>\n",
       "      <td>0</td>\n",
       "      <td>24160</td>\n",
       "      <td>211.0</td>\n",
       "      <td>B5</td>\n",
       "      <td>S</td>\n",
       "      <td>2</td>\n",
       "      <td>?</td>\n",
       "      <td>St Louis, MO</td>\n",
       "      <td>St Louis, MO</td>\n",
       "      <td>None</td>\n",
       "    </tr>\n",
       "    <tr>\n",
       "      <th>1</th>\n",
       "      <td>1</td>\n",
       "      <td>1</td>\n",
       "      <td>Allison, Master. Hudson Trevor</td>\n",
       "      <td>male</td>\n",
       "      <td>1</td>\n",
       "      <td>0</td>\n",
       "      <td>1.0</td>\n",
       "      <td>1</td>\n",
       "      <td>2</td>\n",
       "      <td>113781</td>\n",
       "      <td>152.0</td>\n",
       "      <td>C22 C26</td>\n",
       "      <td>S</td>\n",
       "      <td>11</td>\n",
       "      <td>?</td>\n",
       "      <td>Montreal, PQ / Chesterville, ON</td>\n",
       "      <td>Montreal, PQ</td>\n",
       "      <td>Chesterville, ON</td>\n",
       "    </tr>\n",
       "    <tr>\n",
       "      <th>2</th>\n",
       "      <td>1</td>\n",
       "      <td>0</td>\n",
       "      <td>Allison, Miss. Helen Loraine</td>\n",
       "      <td>female</td>\n",
       "      <td>0</td>\n",
       "      <td>1</td>\n",
       "      <td>2.0</td>\n",
       "      <td>1</td>\n",
       "      <td>2</td>\n",
       "      <td>113781</td>\n",
       "      <td>152.0</td>\n",
       "      <td>C22 C26</td>\n",
       "      <td>S</td>\n",
       "      <td>?</td>\n",
       "      <td>?</td>\n",
       "      <td>Montreal, PQ / Chesterville, ON</td>\n",
       "      <td>Montreal, PQ</td>\n",
       "      <td>Chesterville, ON</td>\n",
       "    </tr>\n",
       "    <tr>\n",
       "      <th>3</th>\n",
       "      <td>1</td>\n",
       "      <td>0</td>\n",
       "      <td>Allison, Mr. Hudson Joshua Creighton</td>\n",
       "      <td>male</td>\n",
       "      <td>1</td>\n",
       "      <td>0</td>\n",
       "      <td>30.0</td>\n",
       "      <td>1</td>\n",
       "      <td>2</td>\n",
       "      <td>113781</td>\n",
       "      <td>152.0</td>\n",
       "      <td>C22 C26</td>\n",
       "      <td>S</td>\n",
       "      <td>?</td>\n",
       "      <td>135</td>\n",
       "      <td>Montreal, PQ / Chesterville, ON</td>\n",
       "      <td>Montreal, PQ</td>\n",
       "      <td>Chesterville, ON</td>\n",
       "    </tr>\n",
       "    <tr>\n",
       "      <th>4</th>\n",
       "      <td>1</td>\n",
       "      <td>0</td>\n",
       "      <td>Allison, Mrs. Hudson J C (Bessie Waldo Daniels)</td>\n",
       "      <td>female</td>\n",
       "      <td>0</td>\n",
       "      <td>1</td>\n",
       "      <td>25.0</td>\n",
       "      <td>1</td>\n",
       "      <td>2</td>\n",
       "      <td>113781</td>\n",
       "      <td>152.0</td>\n",
       "      <td>C22 C26</td>\n",
       "      <td>S</td>\n",
       "      <td>?</td>\n",
       "      <td>?</td>\n",
       "      <td>Montreal, PQ / Chesterville, ON</td>\n",
       "      <td>Montreal, PQ</td>\n",
       "      <td>Chesterville, ON</td>\n",
       "    </tr>\n",
       "  </tbody>\n",
       "</table>\n",
       "</div>"
      ],
      "text/plain": [
       "   pclass  survived                                             name     sex  \\\n",
       "0       1         1                    Allen, Miss. Elisabeth Walton  female   \n",
       "1       1         1                   Allison, Master. Hudson Trevor    male   \n",
       "2       1         0                     Allison, Miss. Helen Loraine  female   \n",
       "3       1         0             Allison, Mr. Hudson Joshua Creighton    male   \n",
       "4       1         0  Allison, Mrs. Hudson J C (Bessie Waldo Daniels)  female   \n",
       "\n",
       "   Male  Female   age  sibsp  parch  ticket   fare    cabin embarked boat  \\\n",
       "0     0       1  29.0      0      0   24160  211.0       B5        S    2   \n",
       "1     1       0   1.0      1      2  113781  152.0  C22 C26        S   11   \n",
       "2     0       1   2.0      1      2  113781  152.0  C22 C26        S    ?   \n",
       "3     1       0  30.0      1      2  113781  152.0  C22 C26        S    ?   \n",
       "4     0       1  25.0      1      2  113781  152.0  C22 C26        S    ?   \n",
       "\n",
       "  body                        home.dest         source        destination  \n",
       "0    ?                     St Louis, MO   St Louis, MO               None  \n",
       "1    ?  Montreal, PQ / Chesterville, ON  Montreal, PQ    Chesterville, ON  \n",
       "2    ?  Montreal, PQ / Chesterville, ON  Montreal, PQ    Chesterville, ON  \n",
       "3  135  Montreal, PQ / Chesterville, ON  Montreal, PQ    Chesterville, ON  \n",
       "4    ?  Montreal, PQ / Chesterville, ON  Montreal, PQ    Chesterville, ON  "
      ]
     },
     "execution_count": 75,
     "metadata": {},
     "output_type": "execute_result"
    }
   ],
   "source": [
    "df.head()"
   ]
  },
  {
   "cell_type": "markdown",
   "id": "35777688-84c6-456f-81de-f25b02d451bb",
   "metadata": {},
   "source": [
    "## 12. Finding Characters & Words"
   ]
  },
  {
   "cell_type": "markdown",
   "id": "ed510ae1-1507-45c2-b521-42a3bbb8cbff",
   "metadata": {},
   "source": [
    "- find()\n",
    "- rfind() in python and pandas\n",
    "\n",
    "- **`find()`** starts from left to right\n",
    "- **`rfind()`** starts from right to left"
   ]
  },
  {
   "cell_type": "code",
   "execution_count": 26,
   "id": "e1a7a7b1-c1f3-4399-847d-9f098e0c3977",
   "metadata": {},
   "outputs": [
    {
     "data": {
      "text/plain": [
       "home.dest\n",
       "-1     1285\n",
       " 0       14\n",
       " 8        4\n",
       " 9        2\n",
       " 12       2\n",
       " 22       2\n",
       "Name: count, dtype: int64"
      ]
     },
     "execution_count": 26,
     "metadata": {},
     "output_type": "execute_result"
    }
   ],
   "source": [
    "df['home.dest'].str.lower().str.find('montreal').value_counts()"
   ]
  },
  {
   "cell_type": "code",
   "execution_count": null,
   "id": "866e034a-2a6b-45d7-89bf-155ff3c4f912",
   "metadata": {},
   "outputs": [],
   "source": []
  }
 ],
 "metadata": {
  "kernelspec": {
   "display_name": "sm",
   "language": "python",
   "name": "sm"
  },
  "language_info": {
   "codemirror_mode": {
    "name": "ipython",
    "version": 3
   },
   "file_extension": ".py",
   "mimetype": "text/x-python",
   "name": "python",
   "nbconvert_exporter": "python",
   "pygments_lexer": "ipython3",
   "version": "3.11.4"
  }
 },
 "nbformat": 4,
 "nbformat_minor": 5
}
